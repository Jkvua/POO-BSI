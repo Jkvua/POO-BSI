{
  "nbformat": 4,
  "nbformat_minor": 0,
  "metadata": {
    "colab": {
      "provenance": [],
      "include_colab_link": true
    },
    "kernelspec": {
      "name": "python3",
      "display_name": "Python 3"
    },
    "language_info": {
      "name": "python"
    }
  },
  "cells": [
    {
      "cell_type": "markdown",
      "metadata": {
        "id": "view-in-github",
        "colab_type": "text"
      },
      "source": [
        "<a href=\"https://colab.research.google.com/github/Jkvua/POO-BSI/blob/main/grande_software_modificacao.ipynb\" target=\"_parent\"><img src=\"https://colab.research.google.com/assets/colab-badge.svg\" alt=\"Open In Colab\"/></a>"
      ]
    },
    {
      "cell_type": "markdown",
      "source": [
        "# **Código do Sistema da Loja do Rick (Rick's Guitars)**"
      ],
      "metadata": {
        "id": "bzegaYhyp1rX"
      }
    },
    {
      "cell_type": "markdown",
      "source": [
        "**Código para a Classe Guitar**"
      ],
      "metadata": {
        "id": "mlSOKPfFr6pw"
      }
    },
    {
      "cell_type": "code",
      "source": [
        "from enum import Enum\n",
        "\n",
        "class Builder(Enum):\n",
        "    FENDER = \"fender\"\n",
        "    MARTIN =  \"martin\"\n",
        "    GIBOSN = \"gibson\"\n",
        "    COLLINGS = \"collings\"\n",
        "    OLSON = \"olson\"\n",
        "    RYAN = \"ryan\"\n",
        "    PSR = \"psr\"\n",
        "    ANY = \"any\"\n",
        "\n",
        "class TypeG(Enum):\n",
        "    ACOUSTIC = \"acoustic\"\n",
        "    ELECTRIC = \"electric\"\n",
        "\n",
        "class Wood(Enum):\n",
        "    INDIAN_ROSEWOOD = \"indian_rosewood\"\n",
        "    BRAZILIAN_ROSEWOOD = \"brazilian_rosewood\"\n",
        "    MAHOGANY = \"mahogany\"\n",
        "    MAPLE = \"maple\"\n",
        "    COCOBOLO = \"ococobolo\"\n",
        "    CEDAR = \"cedar\"\n",
        "    ADIRONDACK = \"adirondack\"\n",
        "    ALDER = \"alder\"\n",
        "    SITKA = \"sitka\""
      ],
      "metadata": {
        "id": "zeZp_w4PttWT"
      },
      "execution_count": 61,
      "outputs": []
    },
    {
      "cell_type": "code",
      "execution_count": 62,
      "metadata": {
        "id": "eNekBEnCpaXK"
      },
      "outputs": [],
      "source": [
        "# Código para a Classe Guitar\n",
        "class Guitar:\n",
        "    def __init__(self, serialNumber, price, builder, model, typeG, backWood, topWood):\n",
        "        self.serialNumber = serialNumber\n",
        "        self.price = price\n",
        "        self.builder = builder\n",
        "        self.model = model\n",
        "        self.typeG = typeG\n",
        "        self.backWood = backWood\n",
        "        self.topWood = topWood\n",
        "\n",
        "    def getSerialNumber(self):\n",
        "        return self.serialNumber\n",
        "\n",
        "    def getPrice(self):\n",
        "        return self.price\n",
        "\n",
        "    def setPrice(self, newPrice):\n",
        "        self.price = newPrice\n",
        "\n",
        "    def getBuilder(self):\n",
        "        return self.builder\n",
        "\n",
        "    def getModel(self):\n",
        "        return self.model\n",
        "\n",
        "    def getTypeG(self):\n",
        "        return self.typeG\n",
        "\n",
        "    def getBackWood(self):\n",
        "        return self.backWood\n",
        "\n",
        "    def getTopWood(self):\n",
        "        return self.topWood\n"
      ]
    },
    {
      "cell_type": "markdown",
      "source": [
        "**Código para a Classe Inventory**"
      ],
      "metadata": {
        "id": "Mj_5MgoHsFrD"
      }
    },
    {
      "cell_type": "code",
      "source": [
        "# Código para a Classe Inventory\n",
        "class Inventory:\n",
        "    def __init__(self):\n",
        "        self.guitars = []\n",
        "\n",
        "# addGuitar() pega todas as propriedades necessárias para criar uma nova instância da Classe Guitar,\n",
        "# cria uma e a adiciona ao inventário\n",
        "    def addGuitar(self, serialNumber, price, builder, model, typeG, backWood, topWood):\n",
        "        guitar = Guitar(serialNumber, price, builder, model, typeG, backWood, topWood)\n",
        "        self.guitars.append(guitar)\n",
        "\n",
        "    def getGuitar(self, serialNumber):\n",
        "        for guitar in self.guitars:\n",
        "            if guitar.getSerialNumber() == serialNumber:\n",
        "                return guitar\n",
        "        return None\n",
        "\n",
        "# Este método é um pouco confuso... ele compara cada propriedade do objeto Guitar\n",
        "# que é passado com cada objeto Guitar no inventário (estoque) do Rick\n",
        "    def searchGuitar(self, searchGuitar):\n",
        "        num_guitars = []\n",
        "        for guitar in self.guitars:\n",
        "\n",
        "            # ignora o 'serialNumber' porque é único\n",
        "            # ignora o 'price' porque é único\n",
        "            if searchGuitar.getBuilder() != guitar.getBuilder():\n",
        "                continue\n",
        "\n",
        "            model = searchGuitar.getModel().lower()\n",
        "            if model and model != \"\" and model != guitar.getModel().lower():\n",
        "                continue\n",
        "\n",
        "            if searchGuitar.getTypeG() != guitar.getTypeG():\n",
        "                continue\n",
        "\n",
        "            if searchGuitar.getBackWood() != guitar.getBackWood():\n",
        "                continue\n",
        "            if searchGuitar.getTopWood() != guitar.getTopWood():\n",
        "                continue\n",
        "\n",
        "            num_guitars.append(guitar)\n",
        "\n",
        "        return num_guitars\n",
        ""
      ],
      "metadata": {
        "id": "3qKrcDrUxDk0"
      },
      "execution_count": 66,
      "outputs": []
    },
    {
      "cell_type": "code",
      "source": [
        "# Testando o Sistema\n",
        "\n",
        "# Set up Rick’s guitar inventory\n",
        "inventory = Inventory()\n",
        "\n",
        "\n",
        "# Adiciona guitarras ao estoque\n",
        "inventory.addGuitar(\"V95693\", 1499.95, Builder.FENDER.value, \"Stratocastor\", TypeG.ELECTRIC.value, Wood.ALDER.value, Wood.ALDER.value)\n",
        "inventory.addGuitar(\"11277\", 3999.95 , Builder.COLLINGS.value, \"PS\", TypeG.ACOUSTIC.value, Wood.INDIAN_ROSEWOOD.value, Wood.INDIAN_ROSEWOOD.value)\n",
        "\n",
        "# Buscando por uma guitarra que o Erin gosta: Fender Stratocastor elétrica com corpo de Alder e tampo de Alder\n",
        "whatErinLikes1 = Guitar(\" \", 0, Builder.FENDER.value, \"Stratocastor\", TypeG.ELECTRIC.value, Wood.ALDER.value, Wood.ALDER.value)\n",
        "\n",
        "guitarras = inventory.searchGuitar(whatErinLikes1)\n",
        "if guitarras is not None:\n",
        "  for guitar in guitarras:\n",
        "    print(f\"Erin, you might like this {guitar.getBuilder()} {guitar.getModel()} {guitar.getTypeG()} guitar:\\n{guitar.getBackWood()} back and sides,\\n{guitar.getTopWood()} top.\\nYou can have it for only ${guitar.getPrice()}!\")\n",
        "else:\n",
        "    print(\"Sorry, Erin, we have nothing for you.\")\n",
        "\n",
        "print('\\n')\n",
        "\n",
        "whatErinLikes2 = Guitar(\"11277\", 0 , Builder.COLLINGS.value, \"PS\", TypeG.ACOUSTIC.value, Wood.INDIAN_ROSEWOOD.value, Wood.INDIAN_ROSEWOOD.value)\n",
        "\n",
        "guitarras = inventory.searchGuitar(whatErinLikes2)\n",
        "if guitarras is not None:\n",
        "  for guitar in guitarras:\n",
        "    print(f\"Erin, talvez você goste desta: {guitar.getBuilder()} {guitar.getModel()} {guitar.getTypeG()} guitar:\\n {guitar.getBackWood()} na traseira e laterais, \\n{guitar.getBackWood()} no tampo.\\n Ela pode ser sua por apenas US${guitar.getPrice()}!\")\n",
        "else:\n",
        "  print(\"Desculpe Erin, não temos nada para você\")\n",
        "\n",
        "print('\\n')\n"
      ],
      "metadata": {
        "colab": {
          "base_uri": "https://localhost:8080/"
        },
        "id": "vl9IElgJ9zs4",
        "outputId": "5893f4d7-a1a1-4f77-fcee-b0d8fa6197c6"
      },
      "execution_count": 67,
      "outputs": [
        {
          "output_type": "stream",
          "name": "stdout",
          "text": [
            "Erin, you might like this fender Stratocastor electric guitar:\n",
            "alder back and sides,\n",
            "alder top.\n",
            "You can have it for only $1499.95!\n",
            "\n",
            "\n",
            "Erin, talvez você goste desta: collings PS acoustic guitar:\n",
            " indian_rosewood na traseira e laterais, \n",
            "indian_rosewood no tampo.\n",
            " Ela pode ser sua por apenas US$3999.95!\n",
            "\n",
            "\n"
          ]
        }
      ]
    },
    {
      "cell_type": "code",
      "source": [
        "inventory = Inventory()\n",
        "\n",
        "inventory.addGuitar(\"V95693\", 1499.95, Builder.FENDER.value, \"Stratocastor\", TypeG.ELECTRIC.value, Wood.ALDER.value, Wood.ALDER.value)\n",
        "inventory.addGuitar(\"11277\", 3999.95 , Builder.COLLINGS.value, \"PS\", TypeG.ACOUSTIC.value, Wood.INDIAN_ROSEWOOD.value, Wood.INDIAN_ROSEWOOD.value)\n",
        "inventory.addGuitar(\"V95697\", 2499.95, Builder.FENDER.value, \"Stratocastor\", TypeG.ELECTRIC.value, Wood.ALDER.value, Wood.ALDER.value)\n",
        "\n",
        "# Buscando por uma guitarra que o Erin gosta: Fender Stratocastor elétrica com corpo de Alder e tampo de Alder\n",
        "whatErinLikes1 = Guitar(\" \", 0, Builder.FENDER.value, \"Stratocastor\", TypeG.ELECTRIC.value, Wood.ALDER.value, Wood.ALDER.value)\n",
        "\n",
        "guitarras = inventory.searchGuitar(whatErinLikes1)\n",
        "if guitarras is not None:\n",
        "  for guitar in guitarras:\n",
        "    print(f\"Erin, you might like this {guitar.getBuilder()} {guitar.getModel()} {guitar.getTypeG()} guitar:\\n{guitar.getBackWood()} back and sides,\\n{guitar.getTopWood()} top.\\nYou can have it for only ${guitar.getPrice()}!\")\n",
        "    print('\\n')\n",
        "else:\n",
        "    print(\"Sorry, Erin, we have nothing for you.\")\n",
        "\n"
      ],
      "metadata": {
        "id": "BNgYtuly_pcG"
      },
      "execution_count": null,
      "outputs": []
    }
  ]
}