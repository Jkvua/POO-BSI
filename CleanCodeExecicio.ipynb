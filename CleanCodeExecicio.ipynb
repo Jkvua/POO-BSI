{
  "nbformat": 4,
  "nbformat_minor": 0,
  "metadata": {
    "colab": {
      "provenance": [],
      "include_colab_link": true
    },
    "kernelspec": {
      "name": "python3",
      "display_name": "Python 3"
    },
    "language_info": {
      "name": "python"
    }
  },
  "cells": [
    {
      "cell_type": "markdown",
      "metadata": {
        "id": "view-in-github",
        "colab_type": "text"
      },
      "source": [
        "<a href=\"https://colab.research.google.com/github/Jkvua/POO-BSI/blob/main/CleanCodeExecicio.ipynb\" target=\"_parent\"><img src=\"https://colab.research.google.com/assets/colab-badge.svg\" alt=\"Open In Colab\"/></a>"
      ]
    },
    {
      "cell_type": "markdown",
      "source": [
        "`Clean Code` é um conceito que se refere a escrever código que é fácil de ler, entender e manter. Existem vários princípios e práticas para melhorar a qualidade deste código, como usar nomes significativos, evitar comentários desnecessários, seguir convenções de estilo, refatorar código duplicado, aplicar testes automatizados, e assim por diante.\n",
        "\n",
        "Aqui estão sete exercícios que você pode fazer para praticar o `Clean Code`. Cada exercício tem uma descrição do problema e um exemplo de código ruim. Você deve resolver os exercícios sugerindo uma solução melhorada para ele.\n"
      ],
      "metadata": {
        "id": "TkEQV5UlqQqn"
      }
    },
    {
      "cell_type": "markdown",
      "source": [
        "### **Exercício 1: Nomes Significativos**\n",
        "\n",
        "> Nomes devem ser claros, precisos e consistentes. Evite usar nomes genéricos, abreviações, números mágicos ou comentários para explicar o que o código faz.\n",
        "\n",
        "#### **Problema**\n",
        "\n",
        "Escreva uma função que calcule o salário líquido de um funcionário a partir do seu salário bruto e dos impostos aplicados. Use nomes significativos para as variáveis e a função.\n",
        "\n",
        "##### **Código Ruim**"
      ],
      "metadata": {
        "id": "2vPDixoFBLXL"
      }
    },
    {
      "cell_type": "code",
      "execution_count": null,
      "metadata": {
        "id": "5282o7_bAkSV"
      },
      "outputs": [],
      "source": [
        "def f(x):\n",
        "  y = 0.15 * x  # INSS\n",
        "  z = 0.275 * x  # IRPF\n",
        "  return x - y - z\n",
        "\n",
        "# Example usage:\n",
        "sb = 10000\n",
        "sl = f(sb)\n",
        "print(sl)\n"
      ]
    },
    {
      "cell_type": "markdown",
      "source": [
        "##### **Código Melhorado**"
      ],
      "metadata": {
        "id": "-T-wSdthC0xs"
      }
    },
    {
      "cell_type": "code",
      "source": [
        "def calculoSalarioLiquido(SalBruto):\n",
        "  desconto_inss = 0.15 * SalBruto\n",
        "  desconto_irpf = 0.275 * SalBruto\n",
        "  calculoFinal = (SalBruto - desconto_inss - desconto_irpf)\n",
        "  return calculoFinal\n",
        "\n",
        "salario_bruto = 10000\n",
        "salario_liquido = calculoSalarioLiquido(salario_bruto)\n",
        "print(f\"O salário no final ficou: {salario_liquido}\")"
      ],
      "metadata": {
        "id": "woOsFn0-C6SV",
        "outputId": "3c1ed2f6-761b-4320-a428-6a25d2e647a5",
        "colab": {
          "base_uri": "https://localhost:8080/"
        }
      },
      "execution_count": null,
      "outputs": [
        {
          "output_type": "stream",
          "name": "stdout",
          "text": [
            "O salário no final ficou: 5750.0\n"
          ]
        }
      ]
    },
    {
      "cell_type": "markdown",
      "source": [
        "### **Exercício 2: Comentários Desnecessários**\n",
        "\n",
        "> Comentários devem ser usados com moderação e apenas quando o código não é suficiente para expressar a intenção. Comentários devem explicar o porquê do código, não o que ele faz. Evite usar comentários para justificar decisões ruins, documentar código óbvio ou repetir o que o código já diz.\n",
        "\n",
        "#### **Problema**\n",
        "\n",
        "Escreva uma função que verifique se um número é par ou ímpar. Remova os comentários desnecessários do código.\n",
        "\n",
        "\n",
        "##### **Código Ruim**"
      ],
      "metadata": {
        "id": "0BNKR5N2Y21p"
      }
    },
    {
      "cell_type": "code",
      "source": [
        "def isPar(numero):\n",
        "  # Verifica se o número é par\n",
        "  if numero % 2 == 0: # Usa o operador módulo para obter o resto da divisão por 2\n",
        "    return True # Retorna verdadeiro se o resto for zero\n",
        "  else:\n",
        "    return False # Retorna falso se o resto for diferente de zero\n",
        "\n"
      ],
      "metadata": {
        "id": "L5zLPY0oZk5i"
      },
      "execution_count": null,
      "outputs": []
    },
    {
      "cell_type": "markdown",
      "source": [
        "##### **Código Melhorado**"
      ],
      "metadata": {
        "id": "QeydVN13arzl"
      }
    },
    {
      "cell_type": "code",
      "source": [
        "def numeroParOuImpar(valor):\n",
        "  if valor % 2 == 0:\n",
        "    return \"Par\"\n",
        "  else:\n",
        "    return \"Ímpar\"\n",
        "\n",
        "valor_escolhido = 5\n",
        "parOuImpar = numeroParOuImpar(valor_escolhido)\n",
        "print(f\"O valor escolhido é: {parOuImpar}\")"
      ],
      "metadata": {
        "id": "V68C05DsaydG",
        "colab": {
          "base_uri": "https://localhost:8080/"
        },
        "outputId": "86adab52-69cb-4b0b-e439-ab9a256bc261"
      },
      "execution_count": null,
      "outputs": [
        {
          "output_type": "stream",
          "name": "stdout",
          "text": [
            "O valor escolhido é: Ímpar\n"
          ]
        }
      ]
    },
    {
      "cell_type": "markdown",
      "source": [
        "### **Exercício 3: Funções (Métodos)**\n",
        "\n",
        "> Escreva funções que sejam pequenas, simples e façam apenas uma coisa. Use nomes descritivos para as funções e os parâmetros. Opcionalmente, use `docstrings` para documentar o propósito, os parâmetros e o retorno das funções.\n",
        "\n",
        "#### **Problema**\n",
        "\n",
        "Escreva uma função que efetue as quatro operações aritméticas (i.e. soma, subtração, divisão e multiplição), recebendo como parâmetro os dois números e a operação desejada (`+`, `-`, `*` e `/`) em forma de símbolos.\n",
        "\n",
        "##### **Código Ruim**"
      ],
      "metadata": {
        "id": "K3Ewj3U6bI5w"
      }
    },
    {
      "cell_type": "code",
      "source": [
        "def calc(x, y, op):\n",
        "  # faz uma operação entre dois números\n",
        "  if op == \"+\":\n",
        "    return x + y\n",
        "  elif op == \"-\":\n",
        "    return x - y\n",
        "  elif op == \"*\":\n",
        "    return x * y\n",
        "  elif op == \"/\":\n",
        "    return x / y\n",
        "  else:\n",
        "    return \"Operação inválida\"\n"
      ],
      "metadata": {
        "id": "jJhNjsUkcdmQ"
      },
      "execution_count": null,
      "outputs": []
    },
    {
      "cell_type": "markdown",
      "source": [
        "##### **Código Melhorado**"
      ],
      "metadata": {
        "id": "Zox8RYXDc62s"
      }
    },
    {
      "cell_type": "code",
      "source": [
        "def calculoOperacaoAritimetica(valor1, valor2, operacao):\n",
        "  if operacao == \"+\":\n",
        "    return(valor1 + valor2)\n",
        "  elif operacao == \"-\":\n",
        "    return(valor1 - valor2)\n",
        "  elif operacao == \"*\":\n",
        "    return(valor1 * valor2)\n",
        "  elif operacao == \"/\":\n",
        "    if valor2 == 0:\n",
        "      return \"Divisão por zero não é permitida\"\n",
        "    return(valor1 / valor2)\n",
        "  else:\n",
        "    return \"Essa operação não é válida\"\n",
        "\n",
        "primeiro_valor = 3\n",
        "segundo_valor = 21\n",
        "operacao_escolhida = \"+\"\n",
        "valorFinalOperacao = calculoOperacaoAritimetica(primeiro_valor, segundo_valor, operacao_escolhida)\n",
        "print(f\"O resultado dessa operação é: {valorFinalOperacao}\")"
      ],
      "metadata": {
        "id": "wgbdh9dDdBvS",
        "colab": {
          "base_uri": "https://localhost:8080/"
        },
        "outputId": "79dd97e7-15b5-4fd1-e796-73a6e7b999c2"
      },
      "execution_count": null,
      "outputs": [
        {
          "output_type": "stream",
          "name": "stdout",
          "text": [
            "O resultado dessa operação é: 24\n"
          ]
        }
      ]
    },
    {
      "cell_type": "markdown",
      "source": [
        "### **Exercício 4: Estruturas de dados**\n",
        "\n",
        "> Use as estruturas de dados adequadas para armazenar e manipular os seus dados. Prefira listas, tuplas, dicionários e conjuntos em vez de sequências ou coleções genéricas. Aproveite as características e métodos dessas estruturas para simplificar o seu código.\n",
        "\n",
        "#### **Problema**\n",
        "\n",
        "Escreva um programa que armazene as oito notas e os nomes dos estudantes da disciplina de POO II. Calcule a média da turma e imprima os nomes e as notas daqueles ficaram acima da média.\n",
        "\n",
        "##### **Código Ruim**"
      ],
      "metadata": {
        "id": "aisvtxGtdmiC"
      }
    },
    {
      "cell_type": "code",
      "source": [
        "# armazena os nomes e as notas dos alunos em uma sequência\n",
        "alunos = \"Ana\", \"Bruno\", \"Carla\", \"Daniel\", \"Eduardo\", \"Fernanda\", \"Gabriel\", \"Helena\"\n",
        "notas = 8.5, 7.0, 9.0, 6.5, 10.0, 8.0, 7.5, 9.5\n",
        "\n",
        "# calcula a média das notas dos alunos\n",
        "soma = 0\n",
        "for i in range(len(notas)):\n",
        "  soma += notas[i]\n",
        "media = soma / len(notas)\n",
        "\n",
        "# imprime os nomes e as notas dos alunos que ficaram acima da média\n",
        "for i in range(len(alunos)):\n",
        "  if notas[i] > media:\n",
        "      print(alunos[i], notas[i])\n"
      ],
      "metadata": {
        "id": "a2OE0QeJesJl",
        "colab": {
          "base_uri": "https://localhost:8080/"
        },
        "outputId": "c7818974-d6de-4858-8c51-c58063210a3c"
      },
      "execution_count": null,
      "outputs": [
        {
          "output_type": "stream",
          "name": "stdout",
          "text": [
            "Ana 8.5\n",
            "Carla 9.0\n",
            "Eduardo 10.0\n",
            "Helena 9.5\n"
          ]
        }
      ]
    },
    {
      "cell_type": "markdown",
      "source": [
        "##### **Código Melhorado**"
      ],
      "metadata": {
        "id": "C9oGH7JMe0jj"
      }
    },
    {
      "cell_type": "code",
      "source": [
        "nome_alunos = ['Ana', 'Bruno', 'Carla', 'Daniel', 'Eduardo', 'Fernanda', 'Gabriel', 'Helena']\n",
        "notas_alunos = [8.5, 7.0, 9.0, 6.5, 10.0, 8.0, 7.5, 9.5]\n",
        "\n",
        "def calcularMediaAlunos(notas_alunos):\n",
        "  return sum(notas_alunos) / len(notas_alunos)\n",
        "\n",
        "def acimaDaMediaGeral(nome_alunos, notas_alunos, media):\n",
        "  return [(nomeAluno, notaAluno) for nomeAluno, notaAluno in zip(nome_alunos, notas_alunos) if notaAluno > media]\n",
        "\n",
        "media = calcularMediaAlunos(notas_alunos)\n",
        "acimaDaMedia = acimaDaMediaGeral(nome_alunos, notas_alunos, media)\n",
        "print(f\"A média da turma foi: {media}\")\n",
        "print(f\"Alunos acima da média:\")\n",
        "for nomeAluno, notaAluno in acimaDaMedia:\n",
        "  print(f\"{nomeAluno} - {notaAluno}\")"
      ],
      "metadata": {
        "id": "HDdHI0Vhe4gt",
        "colab": {
          "base_uri": "https://localhost:8080/"
        },
        "outputId": "14afb1a6-8766-4ad9-a246-c506d8e0e2bc"
      },
      "execution_count": null,
      "outputs": [
        {
          "output_type": "stream",
          "name": "stdout",
          "text": [
            "A média da turma foi: 8.25\n",
            "Alunos acima da média:\n",
            "Ana - 8.5\n",
            "Carla - 9.0\n",
            "Eduardo - 10.0\n",
            "Helena - 9.5\n"
          ]
        }
      ]
    },
    {
      "cell_type": "markdown",
      "source": [
        "### **Exercício 5: Espaçamento em branco**\n",
        "\n",
        "> Use espaços em branco para melhorar a legibilidade do seu código. Evite espaços extras dentro dos parênteses ou colchetes, evite espaços em branco no final das linhas, circunde os operadores binários com um espaço em cada lado e não use espaços ao redor do sinal de igual quando usado para indicar um argumento com palavra-chave.\n",
        "\n",
        "#### **Problema**\n",
        "\n",
        "Escreva duas funções que calculem a área de um círculo e o volume da esfera. Passe como parâmetro o raio.\n",
        "\n",
        "##### **Código Ruim**"
      ],
      "metadata": {
        "id": "k0AsZojighO9"
      }
    },
    {
      "cell_type": "code",
      "source": [
        "def area_circulo ( raio ) :\n",
        "    return 3.14159 * ( raio ** 2 ) # calcula a área de um círculo dado o raio\n",
        "\n",
        "def volume_esfera( raio ):\n",
        "    return (4 / 3) * 3.14159 * (raio ** 3) # calcula o volume de uma esfera dado o raio\n",
        "\n",
        "print(area_circulo( 5 )) # imprime a área de um círculo de raio 5\n",
        "print(volume_esfera(raio = 5)) # imprime o volume de uma esfera de raio 5\n"
      ],
      "metadata": {
        "id": "4BOsUt9AgyHA",
        "colab": {
          "base_uri": "https://localhost:8080/"
        },
        "outputId": "b5dea89f-a43d-424e-ec2a-f056a7fa0800"
      },
      "execution_count": null,
      "outputs": [
        {
          "output_type": "stream",
          "name": "stdout",
          "text": [
            "78.53975\n",
            "523.5983333333332\n"
          ]
        }
      ]
    },
    {
      "cell_type": "markdown",
      "source": [
        "##### **Código Melhorado**"
      ],
      "metadata": {
        "id": "8ZdUPBfIhA0W"
      }
    },
    {
      "cell_type": "code",
      "source": [
        "import math\n",
        "\n",
        "def calcularAreaCirculo(valorRaio):\n",
        "  if valorRaio <= 0:\n",
        "    raise ValueError(\"O valor deve ser um número positivo\")\n",
        "  return math.pi * valorRaio ** 2\n",
        "\n",
        "def calcularVolumeEsfera(valorRaio):\n",
        "  if valorRaio <= 0:\n",
        "    raise ValueError(\"O valor deve ser um número positivo\")\n",
        "  return 4/3 * 3.141 * valorRaio ** 3\n",
        "\n",
        "raio = 5\n",
        "print(f\"O valor da área do circulo com um raio de {raio} = {calcularAreaCirculo(raio)}\")\n",
        "print(f\"O valor da volume de um esfera de raio {raio} = {calcularVolumeEsfera(raio)}\")"
      ],
      "metadata": {
        "id": "11DP7e0DhD2d",
        "colab": {
          "base_uri": "https://localhost:8080/"
        },
        "outputId": "a486fd90-e970-45fc-8846-6f6601fa4a3f"
      },
      "execution_count": null,
      "outputs": [
        {
          "output_type": "stream",
          "name": "stdout",
          "text": [
            "O valor da área do circulo com um raio de 5 = 78.53981633974483\n",
            "O valor da volume de um esfera de raio 5 = 523.5\n"
          ]
        }
      ]
    },
    {
      "cell_type": "markdown",
      "source": [
        "### **Exercício 6: Formatação de linhas**\n",
        "\n",
        "> Siga as regras do [PEP 8](https://peps.python.org/pep-0008/) para formatar as linhas do seu código. Use espaços para indentar, limite a largura das linhas a 79 caracteres, evite múltiplas instruções na mesma linha e separe as definições de funções e classes com duas linhas em branco.\n",
        "\n",
        "#### **Problema**\n",
        "\n",
        "Escreva quatro funções que calculem, respectivamente, a soma dos quadrados, a média, a variância e o desvio padrão de uma lista de dados.\n",
        "\n",
        "##### **Código Ruim**"
      ],
      "metadata": {
        "id": "UR1OoJ03hMh1"
      }
    },
    {
      "cell_type": "code",
      "source": [
        "def soma_quadrados(lista): return sum(x**2 for x in lista) # retorna a soma dos quadrados dos elementos da lista\n",
        "\n",
        "def media(lista): return sum(lista)/len(lista) # retorna a média dos elementos da lista\n",
        "\n",
        "def variancia(lista): m = media(lista); return soma_quadrados([x-m for x in lista])/len(lista) # retorna a variância dos elementos da lista\n",
        "\n",
        "def desvio_padrao(lista): return variancia(lista)**0.5 # retorna o desvio padrão dos elementos da lista\n"
      ],
      "metadata": {
        "id": "FJWReWs1jU-c"
      },
      "execution_count": null,
      "outputs": []
    },
    {
      "cell_type": "markdown",
      "source": [
        "##### **Código Melhorado**"
      ],
      "metadata": {
        "id": "HtMK93R4jZC-"
      }
    },
    {
      "cell_type": "code",
      "source": [
        "def soma_quadrado(numeros):\n",
        "  return sum(numero**2 for numero in numeros)\n",
        "\n",
        "def media(numeros):\n",
        "  return sum(numeros)/len(numeros)\n",
        "\n",
        "def calculoVariancia(numeros):\n",
        "  media_numeros = media(numeros)\n",
        "  return sum((numero - media_numeros)**2 for numero in numeros) / len(numeros)\n",
        "\n",
        "def calculoDesvioPadrao(numeros):\n",
        "  return calculoVariancia(numeros)**0.5\n",
        "\n",
        "valores = [1, 2, 3]\n",
        "resultadoSomaQuadrado = soma_quadrado(valores)\n",
        "resultadoDaMedia = media(valores)\n",
        "resultadoCalculoVariancia = calculoVariancia(valores)\n",
        "resultadoCalculoDesvioPadrao = calculoDesvioPadrao(valores)\n",
        "print(f\"Valor da Soma do Quadrado{resultadoSomaQuadrado}\")\n",
        "print(f\"Valor da Média: {resultadoDaMedia}\")\n",
        "print(f\"Valor da Variancia: {resultadoCalculoVariancia}\")\n",
        "print(f\"Valor do Desvio Padrão: {resultadoCalculoDesvioPadrao}\")"
      ],
      "metadata": {
        "id": "YvIZa8X3jcIY",
        "colab": {
          "base_uri": "https://localhost:8080/"
        },
        "outputId": "7e2b4fe9-b4ab-4e75-ab36-e28ec4b2c2eb"
      },
      "execution_count": null,
      "outputs": [
        {
          "output_type": "stream",
          "name": "stdout",
          "text": [
            "Valor da Soma do Quadrado14\n",
            "Valor da Média: 2.0\n",
            "Valor da Variancia: 0.6666666666666666\n",
            "Valor do Desvio Padrão: 0.816496580927726\n"
          ]
        }
      ]
    },
    {
      "cell_type": "markdown",
      "source": [
        "### **Exercício 7: Funções com muitos parâmetros**\n",
        "\n",
        "> Evite funções com um grande número de parâmetros. Refatore para usar classes ou dicionários.\n",
        "\n",
        "##### **Código Ruim**"
      ],
      "metadata": {
        "id": "eUof8eCTm4oK"
      }
    },
    {
      "cell_type": "code",
      "source": [
        "# Ruim\n",
        "def criar_pessoa(nome, idade, cidade, pais, profissao, email)\n",
        "    # Código para criar uma pessoa\n"
      ],
      "metadata": {
        "id": "QlZ9HiuKn-rX"
      },
      "execution_count": null,
      "outputs": []
    },
    {
      "cell_type": "markdown",
      "source": [
        "##### **Código Melhorado**"
      ],
      "metadata": {
        "id": "UtTEbUHBoG1R"
      }
    },
    {
      "cell_type": "code",
      "source": [
        "from dataclasses import dataclass\n",
        "\n",
        "@dataclass\n",
        "class Pessoa:\n",
        "  nome: str\n",
        "  idade: int\n",
        "  cidade: str\n",
        "  pais: str\n",
        "  profissao: str\n",
        "  email: str\n",
        "\n",
        "def criarPessoa(nome: str, idade: int, cidade: str, pais: str, profissao: str, email: str):\n",
        "  if idade < 0  :\n",
        "    raise ValueError(\"A idade precisa ser um número positivo\")\n",
        "\n",
        "  return Pessoa(nome, idade, cidade, pais, profissao, email)\n",
        "\n",
        "primeiraPessoa = criarPessoa(\"Sosuke\", 5, \"Susono\", \"Japão\", \"Estudante\", \"ponyo@gmial.com\")\n",
        "print(primeiraPessoa)\n"
      ],
      "metadata": {
        "id": "sIjdAK6noB8v",
        "colab": {
          "base_uri": "https://localhost:8080/"
        },
        "outputId": "151cd889-1751-49bd-f815-69060ad0db9a"
      },
      "execution_count": null,
      "outputs": [
        {
          "output_type": "stream",
          "name": "stdout",
          "text": [
            "Pessoa(nome='Sosuke', idade=5, cidade='Susono', pais='Japão', profissao='Estudante', email='ponyo@gmial.com')\n"
          ]
        }
      ]
    }
  ]
}