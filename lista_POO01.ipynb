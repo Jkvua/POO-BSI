{
  "nbformat": 4,
  "nbformat_minor": 0,
  "metadata": {
    "colab": {
      "provenance": [],
      "authorship_tag": "ABX9TyPfKTBhTV/Jy0EQn7mkCFPg",
      "include_colab_link": true
    },
    "kernelspec": {
      "name": "python3",
      "display_name": "Python 3"
    },
    "language_info": {
      "name": "python"
    }
  },
  "cells": [
    {
      "cell_type": "markdown",
      "metadata": {
        "id": "view-in-github",
        "colab_type": "text"
      },
      "source": [
        "<a href=\"https://colab.research.google.com/github/Jkvua/POO-BSI/blob/main/lista_POO01.ipynb\" target=\"_parent\"><img src=\"https://colab.research.google.com/assets/colab-badge.svg\" alt=\"Open In Colab\"/></a>"
      ]
    },
    {
      "cell_type": "markdown",
      "source": [
        "1. Classe Bola: Crie uma classe que modele uma bola:"
      ],
      "metadata": {
        "id": "gI58uEkV0UzW"
      }
    },
    {
      "cell_type": "code",
      "source": [
        "class Bola:\n",
        "  def __init__(self, cor, circunferencia, material):\n",
        "    self.cor = cor\n",
        "    self.circunferencia = circunferencia\n",
        "    self.material = material\n",
        "  def trocarCor(self,novaCor):\n",
        "    self.cor = novaCor\n",
        "  def mostrarCor(self):\n",
        "    return self.cor\n",
        "\n",
        "bola = Bola(\"azul\", 64, \"plastico\")\n",
        "print(f\"A cor da bola era: {bola.mostrarCor()}\")\n",
        "bola.trocarCor(\"verde\")\n",
        "print(f\"A nova cor da bola é: {bola.mostrarCor()}\")\n"
      ],
      "metadata": {
        "id": "aC_C_Xex0cHm"
      },
      "execution_count": null,
      "outputs": []
    },
    {
      "cell_type": "markdown",
      "source": [
        "2. Classe Quadrado: Crie uma classe que modele um quadrado:"
      ],
      "metadata": {
        "id": "tVUTADDU8MJC"
      }
    },
    {
      "cell_type": "code",
      "source": [
        "class Quadrado:\n",
        "  def __init__(self, tamanho_lado):\n",
        "    self.tamanho_lado = tamanho_lado\n",
        "  def getMudarValor(self, novoValor):\n",
        "    self.tamanho_lado = novoValor\n",
        "  def retornarValor(self, tamanho_lado):\n",
        "    self.tamanho_lado = tamanho_lado\n",
        "  def calcularArea(self):\n",
        "    return self.tamanho_lado * self.tamanho_lado\n",
        "\n",
        "quadrado = Quadrado(4)\n",
        "print(\"O valor da área do quadrado é:\",quadrado.calcularArea())\n",
        "quadrado.retornarValor(2)\n",
        "print(\"Retornando o valor do quadrado fica:\",quadrado.calcularArea())"
      ],
      "metadata": {
        "id": "Eb-LdDTs8Qra"
      },
      "execution_count": null,
      "outputs": []
    },
    {
      "cell_type": "markdown",
      "source": [
        "3. Classe Retangulo: Crie uma classe que modele um retangulo:"
      ],
      "metadata": {
        "id": "D9MI21zeAAMz"
      }
    },
    {
      "cell_type": "code",
      "source": [
        "class Retangulo:  #verificar depois\n",
        "  def __init__(self, base, altura):\n",
        "    self.base = base\n",
        "    self.altura = altura\n",
        "  def getMudarValor(self, novaBase, novaAltura):\n",
        "    self.base = novaBase\n",
        "    self.altura = novaAltura\n",
        "  def retornarValor(self, base, altura):\n",
        "    return self.base, self.altura\n",
        "  def calcularArea(self):\n",
        "    return self.base * self.altura\n",
        "  def calcularPerimetro(self):\n",
        "    return 2 * (self.base + self.altura)\n",
        "\n",
        "valores_area = float(input(\"Informe a área do seu local: \"))\n",
        "valores_altura = float(input(\"Informe a altura do seu local: \"))\n",
        "\n",
        "retangulo = Retangulo(valores_area, valores_altura)\n",
        "areaLocal = retangulo.calcularArea()\n",
        "perimetroLocal = retangulo.calcularPerimetro()\n",
        "\n",
        "tamanhoPiso = 1\n",
        "tamanhoRodape = 0.1\n",
        "\n",
        "quantPiso = areaLocal / tamanhoPiso\n",
        "quantRodape = perimetroLocal / tamanhoRodape\n",
        "\n",
        "print(f\"Para o local de {areaLocal:.2f} metros quadrados\")\n",
        "print(f\"Será necessario {quantPiso:.2f} pisos\")\n",
        "print(f\"Será necessario {quantRodape:.2f} rodapés\")"
      ],
      "metadata": {
        "id": "Y1iSaxfZLqVC"
      },
      "execution_count": null,
      "outputs": []
    },
    {
      "cell_type": "markdown",
      "source": [
        "4. Classe Pessoa: Crie uma classe que modele uma pessoa:"
      ],
      "metadata": {
        "id": "uKC_2lF0zdr-"
      }
    },
    {
      "cell_type": "code",
      "source": [
        "class Pessoa:\n",
        "  def __init__(self, nome, idade, peso, altura):\n",
        "    self.nome = nome\n",
        "    self.idade = idade\n",
        "    self.peso = peso\n",
        "    self.altura = altura\n",
        "  def envelhecer(self):\n",
        "    self.idade += 1\n",
        "    if self.idade < 21:\n",
        "        self.altura += 0.5\n",
        "  def engordar(self, peso):\n",
        "    self.peso += peso\n",
        "  def emagrecer(self, peso):\n",
        "    self.peso -= peso\n",
        "  def crescer(self):\n",
        "    if self.idade < 21:\n",
        "        self.altura += 0.5\n",
        "\n",
        "pessoa = Pessoa(nome='Julia', idade=20, peso=60, altura=1.70)\n",
        "print(\"Altura antes de envelhecer\", pessoa.altura)\n",
        "pessoa.crescer()\n",
        "print(\"Altura depois de envelhecer\", pessoa.altura)\n"
      ],
      "metadata": {
        "id": "lCntzKRVzhtn"
      },
      "execution_count": null,
      "outputs": []
    },
    {
      "cell_type": "markdown",
      "source": [
        "5. Classe Conta Corrente:"
      ],
      "metadata": {
        "id": "_b_tqKE4XX8T"
      }
    },
    {
      "cell_type": "code",
      "source": [
        "class Conta:\n",
        "  def __init__(self, numeroConta, nomeCorretista, saldo):\n",
        "    self.numeroConta = numeroConta\n",
        "    self.nomeCorretista = nomeCorretista\n",
        "    self.saldo = saldo\n",
        "  def alterarNome(self, nomeCorretista):\n",
        "    self.nomeCorretista = nomeCorretista\n",
        "  def deposito(self, numeroConta):\n",
        "    self.numeroConta = numeroConta\n",
        "  def saque(self, saldo=None):\n",
        "    self.saldo = saldo\n",
        "  def contaCorrente(self):\n",
        "    return f\"Número da: {self.numeroConta}. Nome do correntista: {self.nomeCorretista}\"\n",
        "\n",
        "conta = Conta(13, 'Marcos', None)\n",
        "print('Sua conta corrente está assim:', conta.contaCorrente())\n"
      ],
      "metadata": {
        "id": "7Tc1splLXatW"
      },
      "execution_count": null,
      "outputs": []
    },
    {
      "cell_type": "markdown",
      "source": [
        "6. Classe TV:"
      ],
      "metadata": {
        "id": "C-NyRtsJcOPS"
      }
    },
    {
      "cell_type": "code",
      "source": [
        "class Tv:\n",
        "  def __init__(self, canal, volume):\n",
        "    self.canal = canal\n",
        "    self.volume = volume\n",
        "  def canalTv(self):\n",
        "    if self.canal <= 89:\n",
        "      return f'O canal escolhido foi: {self.canal}'\n",
        "    else:\n",
        "      return \"Esse número de canal não é válido\"\n",
        "  def volumeTv(self):\n",
        "    if self.volume <= 100:\n",
        "      return f\"O volume da sua TV está em: {self.volume}\"\n",
        "    else:\n",
        "      return \"Esse volume não é válido\"\n",
        "\n",
        "\n",
        "info_tv = int(input(\"Informe qual canal você deseja: \"))\n",
        "volu_tv = int(input(\"Informe em qual volume deseja deixar sua Tv: \"))\n",
        "tv = Tv(info_tv, volu_tv)\n",
        "print(tv.canalTv())\n",
        "print(tv.volumeTv())\n"
      ],
      "metadata": {
        "id": "T2RljjSMcUur"
      },
      "execution_count": null,
      "outputs": []
    },
    {
      "cell_type": "markdown",
      "source": [
        "7. Classe Bichinho Virtual: Crie uma classe que modele um Tamagushi (Bichinho Eletrônico):"
      ],
      "metadata": {
        "id": "DMujeEpPiOCA"
      }
    },
    {
      "cell_type": "code",
      "source": [
        "class Bichinho:\n",
        "  def __init__(self, nome, fome, saude, idade):\n",
        "    self.nome = nome\n",
        "    self._fome = fome\n",
        "    self.saude = saude\n",
        "    self.idade = idade\n",
        "  def alterarNome(self, novoNome):\n",
        "    self.nome = novoNome\n",
        "    return self.nome\n",
        "  def alterarfome(self, novafome):\n",
        "    self._fome = novafome\n",
        "    return self._fome\n",
        "  def alterarsaude(self, novasaude):\n",
        "    self.saude = novasaude\n",
        "    return self.saude\n",
        "  def alteraridade(self, novaidade):\n",
        "    self.idade = novaidade\n",
        "    return self.idade\n",
        "  def alterarhumor(self):\n",
        "    humor = (self._fome + self.saude) / 2\n",
        "    return humor\n",
        "\n",
        "bichinho = Bichinho('Beta',6,7,10)\n",
        "bichinho.alterarNome('lucie')\n",
        "print('nome:', bichinho.nome)\n",
        "print('fome:', bichinho.alterarfome(8))\n",
        "print('saude:', bichinho.alterarsaude(9))\n",
        "print('idade:', bichinho.alteraridade(11))\n",
        "print('humor:', bichinho.alterarhumor())"
      ],
      "metadata": {
        "id": "yhA5Vb5wjBF6"
      },
      "execution_count": null,
      "outputs": []
    },
    {
      "cell_type": "markdown",
      "source": [
        "8. Classe Macaco:"
      ],
      "metadata": {
        "id": "Bk32Ze72omB1"
      }
    },
    {
      "cell_type": "code",
      "source": [
        "class Macaco:\n",
        "    def __init__(self, nome):\n",
        "        self.nome = nome\n",
        "        self.bucho = []\n",
        "\n",
        "    def comer(self, alimento):\n",
        "        self.bucho.append(alimento)  # Adiciona o alimento\n",
        "    def verBucho(self):\n",
        "        if self.bucho:\n",
        "            return f\"{self.nome} tem bucho: {self.bucho}\"\n",
        "        else:\n",
        "            return f\"{self.nome} está de bucho vazio\"\n",
        "    def digerir(self):\n",
        "        if self.bucho:\n",
        "            self.bucho.clear()\n",
        "            return f\"{self.nome} terminou de digerir. Bucho cheio\"\n",
        "        else:\n",
        "            return f\"{self.nome} não precisa digerir, está de bucho vazio\"\n",
        "\n",
        "macaco1 = Macaco(\"Ronaldo\")\n",
        "macaco2 = Macaco(\"Messi\")\n",
        "macaco1.comer(\"Banana\")\n",
        "macaco1.comer(\"Maçã\")\n",
        "macaco2.comer(\"Uva\")\n",
        "\n",
        "print(macaco1.verBucho())\n",
        "print(macaco2.verBucho())\n",
        "print(macaco1.digerir())\n",
        "print(macaco2.digerir())\n",
        "print(macaco1.verBucho())\n",
        "print(macaco2.verBucho())\n"
      ],
      "metadata": {
        "id": "RAeomTcgsWeD"
      },
      "execution_count": null,
      "outputs": []
    },
    {
      "cell_type": "markdown",
      "source": [
        "9. Classe Ponto e Retangulo:"
      ],
      "metadata": {
        "id": "83c2ggWTtJrn"
      }
    },
    {
      "cell_type": "code",
      "source": [
        "class Ponto:\n",
        "    def __init__(self, x, y):\n",
        "        self.x = x\n",
        "        self.y = y\n",
        "\n",
        "    def imprimir(self):\n",
        "        print(f\"Ponto: ({self.x}, {self.y})\")\n",
        "class Retangulo:\n",
        "    def __init__(self, ponto_inicial, largura, altura):\n",
        "        self.ponto_inicial = ponto_inicial\n",
        "        self.largura = largura\n",
        "        self.altura = altura\n",
        "    def encontrar_centro(self):\n",
        "        centro_x = self.ponto_inicial.x + self.largura / 2\n",
        "        centro_y = self.ponto_inicial.y + self.altura / 2\n",
        "        return Ponto(centro_x, centro_y)\n",
        "def alterar_retangulo(retangulo):\n",
        "    novo_x = float(input(\"Novo valor de x para o ponto inicial do retângulo: \"))\n",
        "    novo_y = float(input(\"Novo valor de y para o ponto inicial do retângulo: \"))\n",
        "    nova_largura = float(input(\"Nova largura do retângulo: \"))\n",
        "    nova_altura = float(input(\"Nova altura do retângulo: \"))\n",
        "    retangulo.ponto_inicial.x = novo_x\n",
        "    retangulo.ponto_inicial.y = novo_y\n",
        "    retangulo.largura = nova_largura\n",
        "    retangulo.altura = nova_altura\n",
        "def main():\n",
        "    ponto_inicial = Ponto(0, 0)\n",
        "    retangulo = Retangulo(ponto_inicial, 5, 3)\n",
        "    while True:\n",
        "        print(\"\\n--- Menu ---\")\n",
        "        print(\"1. Imprimir valores do ponto inicial\")\n",
        "        print(\"2. Encontrar centro do retângulo\")\n",
        "        print(\"3. Alterar valores do retângulo\")\n",
        "        print(\"4. Sair\")\n",
        "        escolha = input(\"Escolha uma opção: \")\n",
        "        if escolha == '1':\n",
        "            ponto_inicial.imprimir()\n",
        "        elif escolha == '2':\n",
        "            centro = retangulo.encontrar_centro()\n",
        "            print(\"Centro do retângulo:\")\n",
        "            centro.imprimir()\n",
        "        elif escolha == '3':\n",
        "            alterar_retangulo(retangulo)\n",
        "        elif escolha == '4':\n",
        "            print(\"Saindo...\")\n",
        "            break\n",
        "        else:\n",
        "            print(\"Opção inválida. Tente novamente.\")\n",
        "if __name__ == \"__main__\":\n",
        "    main()\n"
      ],
      "metadata": {
        "id": "XsuweiLBjCZu"
      },
      "execution_count": null,
      "outputs": []
    },
    {
      "cell_type": "markdown",
      "source": [
        "10. Classe Bomba de Combustível:"
      ],
      "metadata": {
        "id": "Dd_A3EDavKSh"
      }
    },
    {
      "cell_type": "code",
      "source": [
        "class BombaCombustivel:\n",
        "    def __init__(self, tipo_combustivel, valor_litro, quantidade_combustivel):\n",
        "        self.tipo_combustivel = tipo_combustivel\n",
        "        self.valor_litro = valor_litro\n",
        "        self.quantidade_combustivel = quantidade_combustivel\n",
        "    def abastecer_por_valor(self, valor_abastecido):\n",
        "        litros_abastecidos = valor_abastecido / self.valor_litro\n",
        "        if litros_abastecidos <= self.quantidade_combustivel:\n",
        "            self.quantidade_combustivel -= litros_abastecidos\n",
        "            return f\"Abastecidos {litros_abastecidos:.2f} litros de {self.tipo_combustivel}\"\n",
        "        else:\n",
        "            return \"Não há combustível suficiente na bomba\"\n",
        "    def abastecer_por_litro(self, litros_abastecidos):\n",
        "        valor_a_pagar = litros_abastecidos * self.valor_litro\n",
        "        if litros_abastecidos <= self.quantidade_combustivel:\n",
        "            self.quantidade_combustivel -= litros_abastecidos\n",
        "            return f\"Valor a pagar: R$ {valor_a_pagar:.2f}\"\n",
        "        else:\n",
        "            return \"Não há combustível suficiente na bomba\"\n",
        "    def alterar_valor(self, novo_valor_litro):\n",
        "        self.valor_litro = novo_valor_litro\n",
        "    def alterar_combustivel(self, novo_tipo_combustivel):\n",
        "        self.tipo_combustivel = novo_tipo_combustivel\n",
        "    def alterar_quantidade_combustivel(self, nova_quantidade_combustivel):\n",
        "        self.quantidade_combustivel = nova_quantidade_combustivel\n",
        "\n",
        "\n",
        "bomba1 = BombaCombustivel(\"Gasolina\", 5.0, 1000)\n",
        "print(\"Quantidade inicial de combustível:\", bomba1.quantidade_combustivel, \"litros\")\n",
        "print(bomba1.abastecer_por_valor(50))\n",
        "print(\"Quantidade restante de combustível:\", bomba1.quantidade_combustivel, \"litros\")\n",
        "print(bomba1.abastecer_por_litro(10))\n",
        "print(\"Quantidade restante de combustível:\", bomba1.quantidade_combustivel, \"litros\")\n",
        "bomba1.alterar_valor(5.5)\n",
        "print(\"Novo valor do litro de gasolina:\", bomba1.valor_litro)\n",
        "bomba1.alterar_quantidade_combustivel(1500)\n",
        "print(\"Nova quantidade de combustível na bomba:\", bomba1.quantidade_combustivel, \"litros\")"
      ],
      "metadata": {
        "id": "pVTXZnFDtNoS"
      },
      "execution_count": null,
      "outputs": []
    },
    {
      "cell_type": "markdown",
      "source": [
        "11. Classe Carro:"
      ],
      "metadata": {
        "id": "2tZDFzAJwCiJ"
      }
    },
    {
      "cell_type": "code",
      "source": [
        "class Carro:\n",
        "    def __init__(self, consumo):\n",
        "        self.consumo = consumo\n",
        "        self.combustivel = 0\n",
        "    def andar(self, distancia):\n",
        "        combustivel_necessario = distancia / self.consumo\n",
        "        if combustivel_necessario <= self.combustivel:\n",
        "            self.combustivel -= combustivel_necessario\n",
        "            return f\"O carro andou {distancia} km.\"\n",
        "        else:\n",
        "            return f\"Combustível insuficiente para percorrer a distância desejada.\"\n",
        "    def obterGasolina(self):\n",
        "        return f\"Nível de combustível atual: {self.combustivel:.2f} litros\"\n",
        "    def adicionarGasolina(self, quantidade):\n",
        "        self.combustivel += quantidade\n",
        "\n",
        "meuFusca = Carro(15)\n",
        "meuFusca.adicionarGasolina(20)\n",
        "meuFusca.andar(100)\n",
        "print(meuFusca.obterGasolina())"
      ],
      "metadata": {
        "id": "S6w-_4rawCDp"
      },
      "execution_count": null,
      "outputs": []
    },
    {
      "cell_type": "markdown",
      "source": [
        "12. Classe Conta de Investimento:"
      ],
      "metadata": {
        "id": "X9n8aMuewy3S"
      }
    },
    {
      "cell_type": "code",
      "source": [
        "class ContaInvestimento:\n",
        "    def __init__(self, saldo_inicial, taxa_juros):\n",
        "        self.saldo = saldo_inicial\n",
        "        self.taxa_juros = taxa_juros / 100\n",
        "    def adicioneJuros(self):\n",
        "        juros = self.saldo * self.taxa_juros\n",
        "        self.saldo += juros\n",
        "    def getSaldo(self):\n",
        "        return self.saldo\n",
        "\n",
        "poupanca = ContaInvestimento(1000.00, 10)\n",
        "for _ in range(5):\n",
        "    poupanca.adicioneJuros()\n",
        "\n",
        "print(\"Saldo após aplicar juros cinco vezes:\", poupanca.getSaldo())"
      ],
      "metadata": {
        "id": "07HFhwVZwyqL"
      },
      "execution_count": null,
      "outputs": []
    },
    {
      "cell_type": "markdown",
      "source": [
        "13. Classe Funcionário:"
      ],
      "metadata": {
        "id": "24LWb2pRxO-f"
      }
    },
    {
      "cell_type": "code",
      "source": [
        "class Funcionario:\n",
        "    def __init__(self, nome, salario):\n",
        "        self.nome = nome\n",
        "        self.salario = salario\n",
        "    def getNome(self):\n",
        "        return self.nome\n",
        "    def getSalario(self):\n",
        "        return self.salario\n",
        "    def aumentarSalario(self, porcentagem_de_aumento):\n",
        "        aumento = self.salario * (porcentagem_de_aumento / 100)\n",
        "        self.salario += aumento\n",
        "\n",
        "jurandir = Funcionario(\"Jurandir\", 25000)\n",
        "print(\"Nome do funcionário:\", jurandir.getNome())\n",
        "print(\"Salário do funcionário:\", jurandir.getSalario())\n",
        "jurandir.aumentarSalario(10)\n",
        "print(\"Novo salário após aumento de 10%:\", jurandir.getSalario())"
      ],
      "metadata": {
        "id": "cBzzvagvwyhP"
      },
      "execution_count": null,
      "outputs": []
    },
    {
      "cell_type": "markdown",
      "source": [
        "14. Classe Bichinho Virtual:"
      ],
      "metadata": {
        "id": "TljMI4zZxx5G"
      }
    },
    {
      "cell_type": "code",
      "source": [
        "class BichinhoVirtual:\n",
        "    def __init__(self, nome):\n",
        "        self.nome = nome\n",
        "        self.fome = 50\n",
        "        self.tedio = 50\n",
        "    def comer(self, quantidade_comida):\n",
        "        self.fome -= quantidade_comida\n",
        "    def brincar(self, tempo_brincadeira):\n",
        "        self.tedio -= tempo_brincadeira\n",
        "    def humor(self):\n",
        "        media = (self.fome + self.tedio) / 2\n",
        "        if media < 30:\n",
        "            return \"Muito feliz\"\n",
        "        elif media < 70:\n",
        "            return \"Ok\"\n",
        "        else:\n",
        "            return \"Triste\"\n",
        "\n",
        "bichinho = BichinhoVirtual(\"Roberto\")\n",
        "quantidade_comida = int(input(\"Quanta comida você vai fornecer ao bichinho? (0-100): \"))\n",
        "tempo_brincadeira = int(input(\"Quanto tempo você vai brincar com o bichinho? (0-100): \"))\n",
        "bichinho.comer(quantidade_comida)\n",
        "bichinho.brincar(tempo_brincadeira)\n",
        "\n",
        "print(f\"O humor de {bichinho.nome} é {bichinho.humor()}.\")"
      ],
      "metadata": {
        "id": "eK8Lzr46xWxK"
      },
      "execution_count": null,
      "outputs": []
    },
    {
      "cell_type": "markdown",
      "source": [
        "15. Crie uma \"porta escondida\""
      ],
      "metadata": {
        "id": "qxedGe20yTtN"
      }
    },
    {
      "cell_type": "code",
      "source": [
        "class BichinhoVirtual:\n",
        "    def __init__(self, nome):\n",
        "        self.nome = nome\n",
        "        self.fome = 50\n",
        "        self.tedio = 50\n",
        "    def comer(self, quantidade_comida):\n",
        "        self.fome -= quantidade_comida\n",
        "    def brincar(self, tempo_brincadeira):\n",
        "        self.tedio -= tempo_brincadeira\n",
        "    def humor(self):\n",
        "        media = (self.fome + self.tedio) / 2\n",
        "        if media < 30:\n",
        "            return \"Muito feliz\"\n",
        "        elif media < 70:\n",
        "            return \"Ok\"\n",
        "        else:\n",
        "            return \"Triste\"\n",
        "    def __str__(self):\n",
        "        return f\"Bichinho {self.nome}: Fome = {self.fome}, Tédio = {self.tedio}\"\n",
        "\n",
        "bichinho = BichinhoVirtual(\"Rex\")\n",
        "\n",
        "while True:\n",
        "    print(\"\\n--- Menu ---\")\n",
        "    print(\"1. Alimentar o bichinho\")\n",
        "    print(\"2. Brincar com o bichinho\")\n",
        "    print(\"3. Ver humor do bichinho\")\n",
        "    print(\"4. Revelar valores exatos do bichinho (opção secreta)\")\n",
        "    print(\"5. Sair\")\n",
        "\n",
        "    escolha = input(\"Escolha uma opção: \")\n",
        "    if escolha == '1':\n",
        "        quantidade_comida = int(input(\"Quanta comida você vai fornecer ao bichinho? (0-100): \"))\n",
        "        bichinho.comer(quantidade_comida)\n",
        "    elif escolha == '2':\n",
        "        tempo_brincadeira = int(input(\"Quanto tempo você vai brincar com o bichinho? (0-100): \"))\n",
        "        bichinho.brincar(tempo_brincadeira)\n",
        "    elif escolha == '3':\n",
        "        print(f\"O humor de {bichinho.nome} é {bichinho.humor()}.\")\n",
        "    elif escolha == '4':\n",
        "        print(bichinho)\n",
        "    elif escolha == '5':\n",
        "        print(\"Saindo...\")\n",
        "        break\n",
        "    else:\n",
        "        print(\"Opção inválida. Tente novamente.\")"
      ],
      "metadata": {
        "id": "370GF7wrxWg9"
      },
      "execution_count": null,
      "outputs": []
    },
    {
      "cell_type": "markdown",
      "source": [
        "16. Crie uma Fazenda de Bichinhos"
      ],
      "metadata": {
        "id": "BpcSBCG-zbfo"
      }
    },
    {
      "cell_type": "code",
      "source": [
        "class BichinhoVirtual:\n",
        "    def __init__(self, nome):\n",
        "        self.nome = nome\n",
        "        self.fome = 50\n",
        "        self.tedio = 50\n",
        "    def comer(self, quantidade_comida):\n",
        "        self.fome -= quantidade_comida\n",
        "    def brincar(self, tempo_brincadeira):\n",
        "        self.tedio -= tempo_brincadeira\n",
        "    def humor(self):\n",
        "        media = (self.fome + self.tedio) / 2\n",
        "        if media < 30:\n",
        "            return \"Feliz\"\n",
        "        elif media < 70:\n",
        "            return \"Ok\"\n",
        "        else:\n",
        "            return \"Triste\"\n",
        "class FazendaDeBichinhos:\n",
        "    def __init__(self):\n",
        "        self.bichinhos = []\n",
        "    def adicionar_bichinho(self, bichinho):\n",
        "        self.bichinhos.append(bichinho)\n",
        "    def alimentar_bichinhos(self, quantidade_comida):\n",
        "        for bichinho in self.bichinhos:\n",
        "            bichinho.comer(quantidade_comida)\n",
        "    def brincar_com_bichinhos(self, tempo_brincadeira):\n",
        "        for bichinho in self.bichinhos:\n",
        "            bichinho.brincar(tempo_brincadeira)\n",
        "    def verificar_humor_bichinhos(self):\n",
        "        print(\"--- Humor dos Bichinhos ---\")\n",
        "        for bichinho in self.bichinhos:\n",
        "            print(f\"{bichinho.nome}: {bichinho.humor()}\")\n",
        "\n",
        "fazenda = FazendaDeBichinhos()\n",
        "fazenda.adicionar_bichinho(BichinhoVirtual(\"Roberto\"))\n",
        "fazenda.adicionar_bichinho(BichinhoVirtual(\"Carlos\"))\n",
        "fazenda.adicionar_bichinho(BichinhoVirtual(\"Manuel\"))\n",
        "\n",
        "fazenda.alimentar_bichinhos(20)\n",
        "fazenda.brincar_com_bichinhos(30)\n",
        "fazenda.verificar_humor_bichinhos()"
      ],
      "metadata": {
        "id": "fU4ntCMmiSz7"
      },
      "execution_count": null,
      "outputs": []
    }
  ]
}