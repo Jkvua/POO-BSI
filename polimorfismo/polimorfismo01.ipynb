{
  "nbformat": 4,
  "nbformat_minor": 0,
  "metadata": {
    "colab": {
      "provenance": [],
      "authorship_tag": "ABX9TyPg5hZvLlAQ7JNz62kIOF+E",
      "include_colab_link": true
    },
    "kernelspec": {
      "name": "python3",
      "display_name": "Python 3"
    },
    "language_info": {
      "name": "python"
    }
  },
  "cells": [
    {
      "cell_type": "markdown",
      "metadata": {
        "id": "view-in-github",
        "colab_type": "text"
      },
      "source": [
        "<a href=\"https://colab.research.google.com/github/Jkvua/POO-BSI/blob/main/polimorfismo01.ipynb\" target=\"_parent\"><img src=\"https://colab.research.google.com/assets/colab-badge.svg\" alt=\"Open In Colab\"/></a>"
      ]
    },
    {
      "cell_type": "markdown",
      "source": [
        "1.\n"
      ],
      "metadata": {
        "id": "OfY77coZGCHx"
      }
    },
    {
      "cell_type": "code",
      "execution_count": null,
      "metadata": {
        "id": "iqQiLBmbF8v1"
      },
      "outputs": [],
      "source": [
        "class Usuario:\n",
        "  def __init__(self, pontos=0, numeroDeArtigos=0):\n",
        "    self.pontos = pontos\n",
        "    self.numeroDeArtigos = numeroDeArtigos\n",
        "  def setNumeroDeArtigos(self, nart):\n",
        "    self.numeroDeArtigos = nart\n",
        "  def getNumeroDeArtigos(self):\n",
        "    return self.numeroDeArtigos\n",
        "  def calcPontuacao(self):\n",
        "    pass\n",
        "class Autor(Usuario):\n",
        "  def calcPontuacao(self):\n",
        "      return self.numeroDeArtigos * 10 + 20\n",
        "class Editor(Usuario):\n",
        "  def calcPontuacao(self):\n",
        "      return self.numeroDeArtigos * 6 + 15\n",
        "\n",
        "autor1 = Autor()\n",
        "autor1.setNumeroDeArtigos(8)\n",
        "print(f'O Autor tem: {autor1.calcPontuacao()} de pontuação')\n",
        "editor1 = Editor()\n",
        "editor1.setNumeroDeArtigos(15)\n",
        "print(f'O editor tem: {editor1.calcPontuacao()} de pontuação')"
      ]
    }
  ]
}