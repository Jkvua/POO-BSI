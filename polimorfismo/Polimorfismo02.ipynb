{
  "nbformat": 4,
  "nbformat_minor": 0,
  "metadata": {
    "colab": {
      "provenance": [],
      "authorship_tag": "ABX9TyOY0poAyfizBWUdsd0PqgM4",
      "include_colab_link": true
    },
    "kernelspec": {
      "name": "python3",
      "display_name": "Python 3"
    },
    "language_info": {
      "name": "python"
    }
  },
  "cells": [
    {
      "cell_type": "markdown",
      "metadata": {
        "id": "view-in-github",
        "colab_type": "text"
      },
      "source": [
        "<a href=\"https://colab.research.google.com/github/Jkvua/POO-BSI/blob/main/Polimorfismo02.ipynb\" target=\"_parent\"><img src=\"https://colab.research.google.com/assets/colab-badge.svg\" alt=\"Open In Colab\"/></a>"
      ]
    },
    {
      "cell_type": "markdown",
      "source": [
        "1. Crie uma hierarquia de classes para animais, com uma classe mãe Animal e subclasses Cachorro,\n",
        "Gato e Peixe. Cada subclasse deve ter um método falar() que retorne uma string\n",
        "representando o som que o animal faz. Demonstre o polimorfismo chamando falar() nas\n",
        "instâncias de cada subclasse."
      ],
      "metadata": {
        "id": "dP5lVlYdVSkU"
      }
    },
    {
      "cell_type": "code",
      "source": [
        "class Animal:\n",
        "  def __init__(self, nome='', apelido=''):\n",
        "    self.nome = nome\n",
        "    self.apelido = apelido\n",
        "  def getAnimal(self):\n",
        "    return f' meu nome é: {self.nome} meu apelido é: {self.apelido}'\n",
        "class Cachorro(Animal):\n",
        "  def falar(self):\n",
        "     return 'AUAUAU'\n",
        "class Gato(Animal):\n",
        "  def falar(self):\n",
        "    return 'MIAU MIAU MIAU'\n",
        "class Peixe(Animal):\n",
        "  def falar(self):\n",
        "    return 'glub glub'\n",
        "\n",
        "animal1 = Animal('Arturo', 'Art')\n",
        "print(animal1.getAnimal())\n",
        "cachorro1 = Cachorro()\n",
        "print('o cachorro fala:', cachorro1.falar())\n",
        "gato1 = Gato()\n",
        "print('o gato fala:', gato1.falar())\n",
        "peixe1 = Peixe()\n",
        "print('o peixe fala:', peixe1.falar())"
      ],
      "metadata": {
        "id": "UkNVfCktVTi0"
      },
      "execution_count": null,
      "outputs": []
    },
    {
      "cell_type": "markdown",
      "source": [
        "2. Crie uma classe Animal com um método falar(). Em seguida, crie duas classes filhas,\n",
        "Cachorro e Gato, que herdam da classe Animal. Cada uma destas classes filhas deve ter seu\n",
        "próprio método falar() que retorne um som diferente (e.g. latidos para o cachorro e miados para\n",
        "o gato). Em seguida, crie uma lista de animais que inclua um cachorro e um gato. Por fim, itere\n",
        "sobre a lista e chame o método falar() de cada animal."
      ],
      "metadata": {
        "id": "NLl6vrWebRfC"
      }
    },
    {
      "cell_type": "code",
      "source": [
        "class Animal:\n",
        "  def falar(self):\n",
        "    pass\n",
        "class Cachorro(Animal):\n",
        "  def falar(self):\n",
        "    return 'AU AUA AU AU'\n",
        "class Gato(Animal):\n",
        "  def falar(self):\n",
        "    return 'MIAU MIAU MIAU MIAU'\n",
        "\n",
        "animais = [\n",
        "    Cachorro(),\n",
        "    Gato()\n",
        "]\n",
        "\n",
        "cachorrofala = animais[0].falar()\n",
        "gatofala = animais[1].falar()\n",
        "\n",
        "print(f'O cachorro fala: {cachorrofala}')\n",
        "print(f'O gato fala: {gatofala}')\n"
      ],
      "metadata": {
        "id": "8M7fnM_ebUax"
      },
      "execution_count": null,
      "outputs": []
    },
    {
      "cell_type": "markdown",
      "source": [
        "3. Crie uma classe chamada Carro com um método dirigir(). Em seguida, crie duas subclasses,\n",
        "CarroGasolina e CarroEletrico, cada uma com sua própria implementação de dirigir().\n",
        "Demonstre o polimorfismo passando instâncias de ambas as subclasses para uma função que recebe\n",
        "um objeto Carro."
      ],
      "metadata": {
        "id": "rC_10FZvU6V8"
      }
    },
    {
      "cell_type": "code",
      "execution_count": null,
      "metadata": {
        "id": "IcSpsdeSPlGi"
      },
      "outputs": [],
      "source": [
        "class Carro:\n",
        "  def dirigir(self):\n",
        "    pass\n",
        "class CarroGasolina(Carro):\n",
        "  def dirigir(self):\n",
        "    return \"a gasolina\"\n",
        "class CarroEletrico(Carro):\n",
        "  def dirigir(self):\n",
        "    return \"elétrico\"\n",
        "\n",
        "carrogas = CarroGasolina()\n",
        "print('Esse carro é',carrogas.dirigir())\n",
        "carroele = CarroEletrico()\n",
        "print('Esse carro é',carroele.dirigir())"
      ]
    },
    {
      "cell_type": "markdown",
      "source": [
        "4. Crie uma classe Forma com um método area(). Em seguida, crie duas classes filhas, Circulo e\n",
        "Quadrado, que herdam da classe Forma. Cada uma destas classes filhas deve ter seu próprio\n",
        "método area() que calcula a área do círculo ou do quadrado, respectivamente. Em seguida, crie\n",
        "uma lista de formas que inclua um círculo e um quadrado. Por fim, itere sobre a lista e chame o\n",
        "método area() de cada forma."
      ],
      "metadata": {
        "id": "hkIqDidGsI8D"
      }
    },
    {
      "cell_type": "code",
      "source": [
        "import math\n",
        "\n",
        "class Forma:\n",
        "  def area(self):\n",
        "    pass\n",
        "class Circulo(Forma):\n",
        "  def __init__(self, raio):\n",
        "    self.raio = raio\n",
        "  def area(self):\n",
        "    return math.pi * self.raio ** 2\n",
        "class Quadrado(Forma):\n",
        "  def __init__(self,lados):\n",
        "    self.lados = lados\n",
        "  def area(self):\n",
        "    return self.lados ** 2\n",
        "\n",
        "formas = [\n",
        "    Circulo(3),\n",
        "    Quadrado(5)\n",
        "]\n",
        "\n",
        "for forma in formas:\n",
        "  print(f'A área da forma é: {forma.area()}')"
      ],
      "metadata": {
        "id": "pr2yb7AisMlb"
      },
      "execution_count": null,
      "outputs": []
    },
    {
      "cell_type": "markdown",
      "source": [
        "5. Crie uma classe Empregado com um método pagar_salario(). Em seguida, crie duas classes\n",
        "filhas, EmpregadoHora e EmpregadoMes, que herdam da classe Empregado. Cada uma das\n",
        "classes filhas deve ter seu próprio método pagar_salario() que calcula o salário com base no\n",
        "número de horas trabalhadas ou no salário mensal, respectivamente. Em seguida, crie uma lista de\n",
        "funcionários que inclua um funcionário horista e um funcionário mensalista. Por fim, itere sobre a\n",
        "lista e chame o método pagar_salario() de cada funcionário."
      ],
      "metadata": {
        "id": "__RcKWC-QmvP"
      }
    },
    {
      "cell_type": "code",
      "source": [
        "class Empregado:\n",
        "  def pagar_salario(self):\n",
        "    pass\n",
        "class EmpregadoHora(Empregado):\n",
        "  def __init__(self, hora, remuneracao):\n",
        "    self.hora = hora\n",
        "    self.remuneracao = remuneracao\n",
        "  def pagar_salario(self):\n",
        "    return self.hora * self.remuneracao\n",
        "class EmpregadoMes(Empregado):\n",
        "  def __init__(self, salario):\n",
        "    self.salario = salario\n",
        "  def pagar_salario(self):\n",
        "    return self.salario\n",
        "\n",
        "funcionarios = [\n",
        "    EmpregadoHora(220, 15),\n",
        "    EmpregadoMes(3700)\n",
        "]\n",
        "\n",
        "salario_horista = funcionarios[0].pagar_salario()\n",
        "salario_mensalista = funcionarios[1].pagar_salario()\n",
        "\n",
        "print(f'O salario de do funcionario horista é de: {salario_horista}')\n",
        "print(f'O salario de um mensalista é de: {salario_mensalista}')"
      ],
      "metadata": {
        "id": "Ho2QtDmbQqB9"
      },
      "execution_count": null,
      "outputs": []
    },
    {
      "cell_type": "markdown",
      "source": [
        "6. Crie uma classe chamada ContaBancaria com os métodos deposito() e retirada(). Crie\n",
        "duas subclasses: ContaPoupanca e ContaCorrente. Cada uma dessas subclasses deve ter sua\n",
        "própria taxa de juros (a taxa de juros da Conta Poupança é maior que a da Conta Corrente)."
      ],
      "metadata": {
        "id": "ZrL8JH_HYMRF"
      }
    },
    {
      "cell_type": "code",
      "source": [
        "class ContaBancaria:\n",
        "  def __init__(self, saldo_inicial):\n",
        "    self.saldo = saldo_inicial\n",
        "  def deposito(self, valor):\n",
        "    if valor > 0:\n",
        "      self.saldo += valor\n",
        "      print('Depositado', valor ,'Saldo atual:', self.saldo)\n",
        "    else:\n",
        "      print(\"O valor do depósito deve ser positivo.\")\n",
        "  def retirada(self,valor):\n",
        "    if valor > 0:\n",
        "      if self.saldo >= valor:\n",
        "        self.saldo -= valor\n",
        "        print(f'Retirado: ${valor}. Saldo restante: ${self.saldo}')\n",
        "      else:\n",
        "        print(\"Saldo insuficiente para a retirada.\")\n",
        "    else:\n",
        "        print(\"O valor da retirada deve ser positivo.\")\n",
        "\n",
        "class ContaPoupanca(ContaBancaria):\n",
        "    taxa_de_juros = 0.05\n",
        "\n",
        "    def aplicar_juros(self):\n",
        "        juros = self.saldo * self.taxa_de_juros\n",
        "        self.saldo += juros\n",
        "        print(f'Juros aplicados: ${juros}. Saldo novo: ${self.saldo}')\n",
        "\n",
        "class ContaCorrente(ContaBancaria):\n",
        "    taxa_de_juros = 0.02\n",
        "\n",
        "    def aplicar_juros(self):\n",
        "        juros = self.saldo * self.taxa_de_juros\n",
        "        self.saldo += juros\n",
        "        print(f'Juros aplicados: ${juros}. Saldo novo: ${self.saldo}')\n",
        "\n",
        "contap = ContaPoupanca(1000)\n",
        "contac = ContaCorrente(1000)\n",
        "contap.deposito(200)\n",
        "contap.retirada(50)\n",
        "contap.aplicar_juros()\n",
        "contac.deposito(300)\n",
        "contac.retirada(150)\n",
        "contac.aplicar_juros()"
      ],
      "metadata": {
        "id": "MWt3abr8YJvY"
      },
      "execution_count": null,
      "outputs": []
    }
  ]
}