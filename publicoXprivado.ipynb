{
  "nbformat": 4,
  "nbformat_minor": 0,
  "metadata": {
    "colab": {
      "provenance": [],
      "authorship_tag": "ABX9TyO8JuQh+wAEzd8TPLVnl7h/",
      "include_colab_link": true
    },
    "kernelspec": {
      "name": "python3",
      "display_name": "Python 3"
    },
    "language_info": {
      "name": "python"
    }
  },
  "cells": [
    {
      "cell_type": "markdown",
      "metadata": {
        "id": "view-in-github",
        "colab_type": "text"
      },
      "source": [
        "<a href=\"https://colab.research.google.com/github/Jkvua/POO-BSI/blob/main/publicoXprivado.ipynb\" target=\"_parent\"><img src=\"https://colab.research.google.com/assets/colab-badge.svg\" alt=\"Open In Colab\"/></a>"
      ]
    },
    {
      "cell_type": "markdown",
      "source": [
        "1. Nós usamos o modificador de acesso private a fim de:"
      ],
      "metadata": {
        "id": "ZDzuyXo-xG_M"
      }
    },
    {
      "cell_type": "markdown",
      "source": [
        "\n",
        "\n",
        "```\n",
        "Letra = d\n",
        "```\n",
        "\n"
      ],
      "metadata": {
        "id": "yrIpdUfMxMXD"
      }
    },
    {
      "cell_type": "markdown",
      "source": [
        "Exercicio 2"
      ],
      "metadata": {
        "id": "zvT9KNpB0Q9N"
      }
    },
    {
      "cell_type": "code",
      "execution_count": null,
      "metadata": {
        "id": "sMcYFAK6w6OD"
      },
      "outputs": [],
      "source": [
        "class Usuario:\n",
        "  def __init__(self, primeiroNome):\n",
        "    self.__primeiroNome = primeiroNome\n",
        "  def setNome(self, primeiroNome):\n",
        "    self.__primeiroNome = primeiroNome\n",
        "  def getNome(self):\n",
        "    return \"O primeiro nome do usuario é \" + self.__primeiroNome\n",
        "\n",
        "usuario1 = Usuario(\"Joe\")\n",
        "print(usuario1.getNome())"
      ]
    },
    {
      "cell_type": "markdown",
      "source": [
        "Exercicio 3"
      ],
      "metadata": {
        "id": "MxVfq2Ao-78x"
      }
    },
    {
      "cell_type": "code",
      "source": [
        "class Empregado:\n",
        "  def __init__(self, nome, salario, projeto):\n",
        "    self.__salario = salario\n",
        "    self.nome = nome\n",
        "    self.projeto = projeto\n",
        "  def setSalario(self, salario):\n",
        "    self.__salario = salario\n",
        "  def getModeloTrabalho(self):\n",
        "    return \"O nome do usuario é \" + self.nome + \". Ele faz parte do\"+ self.projeto\n",
        "  def getModeloMostrar(self):\n",
        "    return \" tendo um salario de \" + str(self.__salario) + \" reais\"\n",
        "\n",
        "nome1 = Empregado(\"Junior\", 2000, \" Projeto Vida\")\n",
        "print(nome1.getModeloTrabalho() + nome1.getModeloMostrar())\n",
        "\n"
      ],
      "metadata": {
        "id": "GpViBBjjLi7Z"
      },
      "execution_count": null,
      "outputs": []
    },
    {
      "cell_type": "markdown",
      "source": [
        "Exercicio 4"
      ],
      "metadata": {
        "id": "sWznBb3qynhh"
      }
    },
    {
      "cell_type": "code",
      "source": [
        "class Robo():\n",
        "  def __init__(self, nome, ano_construcao):\n",
        "    self.__nome = nome\n",
        "    self.__ano_construcao = ano_construcao\n",
        "  def setNomeAno(self, nome, ano_construcao):\n",
        "    self.__nome = nome\n",
        "    self.__ano_construcao = ano_construcao\n",
        "  def diga_algo(self):\n",
        "    rusultado = self.__nome + self.__ano_construcao\n",
        "  def getFinalRobo(self):\n",
        "    return \"O nome do Robo é \" + self.__nome + \" e o ano de construção é: \" + str(self.__ano_construcao)\n",
        "\n",
        "robo01 = Robo(\"Claudio\", 2014)\n",
        "print(robo01.getFinalRobo())\n"
      ],
      "metadata": {
        "id": "vc_wHPVvyqLy"
      },
      "execution_count": null,
      "outputs": []
    },
    {
      "cell_type": "markdown",
      "source": [
        "Exercicio 5"
      ],
      "metadata": {
        "id": "sxpbzfF0RgcL"
      }
    },
    {
      "cell_type": "code",
      "source": [
        "class Laptop:\n",
        "  def __init__(self):\n",
        "    self.__preco = None\n",
        "  def get_preco(self):\n",
        "    return self.__preco\n",
        "  def set_preco(self, novo_preco):\n",
        "    self.__preco = novo_preco\n",
        "\n",
        "laptop = Laptop()\n",
        "print(f\"O preço inicial do Laptop: {laptop.get_preco()}\")\n",
        "novo_preco = 3999\n",
        "laptop.set_preco(novo_preco)\n",
        "print(f\"O novo valor do laptop é de: {laptop.get_preco()}\")"
      ],
      "metadata": {
        "id": "3oSYvSZoR4XG"
      },
      "execution_count": null,
      "outputs": []
    },
    {
      "cell_type": "markdown",
      "source": [
        "Exercicio 6"
      ],
      "metadata": {
        "id": "1Q8P-MRgXsv1"
      }
    },
    {
      "cell_type": "code",
      "source": [
        "class Pessoa:\n",
        "  def __init__(self):\n",
        "    self.__primeiroNome = None\n",
        "    self.__ultimoNome = None\n",
        "  def getPrimeiroNome(self):\n",
        "    return self.__primeiroNome\n",
        "  def getUltimoNome(self):\n",
        "    return self.__ultimoNome\n",
        "  def setPrimeiroNome(self, primeiroNome):\n",
        "    self.__primeiroNome = primeiroNome\n",
        "  def setUltimoNome(self,ultimoNome):\n",
        "    self.__ultimoNome = ultimoNome\n",
        "\n",
        "pessoa = Pessoa()\n",
        "\n",
        "pessoa.setPrimeiroNome(\"João\")\n",
        "pessoa.setUltimoNome(\"Carvalho\")\n",
        "print(f\"O primeiro nome é: {pessoa.getPrimeiroNome()}\")\n",
        "print(f\"O último nome é: {pessoa.getUltimoNome()}\")"
      ],
      "metadata": {
        "id": "rxo3JnJkXvpg"
      },
      "execution_count": null,
      "outputs": []
    }
  ]
}