{
  "nbformat": 4,
  "nbformat_minor": 0,
  "metadata": {
    "colab": {
      "provenance": [],
      "authorship_tag": "ABX9TyN/JeuEoSXh6Ey56EJ5ho7d",
      "include_colab_link": true
    },
    "kernelspec": {
      "name": "python3",
      "display_name": "Python 3"
    },
    "language_info": {
      "name": "python"
    }
  },
  "cells": [
    {
      "cell_type": "markdown",
      "metadata": {
        "id": "view-in-github",
        "colab_type": "text"
      },
      "source": [
        "<a href=\"https://colab.research.google.com/github/Jkvua/POO-BSI/blob/main/heren%C3%A7aLista2.ipynb\" target=\"_parent\"><img src=\"https://colab.research.google.com/assets/colab-badge.svg\" alt=\"Open In Colab\"/></a>"
      ]
    },
    {
      "cell_type": "markdown",
      "source": [
        "1. Crie uma classe Pessoa com os atributos nome e idade. Crie uma classe Aluno que herda de\n",
        "Pessoa e adicione o atributo nota. Crie um método para imprimir as informações da Pessoa e um\n",
        "método para imprimir as informações do Aluno."
      ],
      "metadata": {
        "id": "ls4PAp5wgfEi"
      }
    },
    {
      "cell_type": "code",
      "execution_count": null,
      "metadata": {
        "id": "4eP-lem2gWvV"
      },
      "outputs": [],
      "source": [
        "class Pessoa:\n",
        "  def __init__(self, nome=\"\", idade=\"\"):\n",
        "    self.nome = nome\n",
        "    self.idade = idade\n",
        "  def getNome(self):\n",
        "    return self.nome\n",
        "  def getIdade(self):\n",
        "    return self.idade\n",
        "class Aluno(Pessoa):\n",
        "  def __init__(self, notas=[]):\n",
        "    super().__init__()\n",
        "    self.notas = notas\n",
        "  def setNotas(self, notas):\n",
        "    self.notas = notas\n",
        "  def getNota(self):\n",
        "    return self.notas\n",
        "\n",
        "pessoa = Pessoa('Venancio', 16)\n",
        "print(f'Pessoa: {pessoa.nome} / Idade: {pessoa.idade}')\n",
        "aluno1 = Aluno()\n",
        "aluno1.setNotas([9, 8, 10])\n",
        "print(f'Aluno: {pessoa.nome} / Idade: {pessoa.idade} / Notas: {aluno1.getNota()}')\n"
      ]
    },
    {
      "cell_type": "markdown",
      "source": [
        "2. Crie uma classe Veiculo com os atributos marca, modelo e ano. Crie classes filhas Carro e\n",
        "Moto que adicionam o atributo quantidade_de_portas e cilindradas, respectivamente. Crie\n",
        "um método para imprimir as informações do Veiculo e um método para imprimir as informações\n",
        "do Carro e da Moto."
      ],
      "metadata": {
        "id": "mSMpaUUgfKVI"
      }
    },
    {
      "cell_type": "code",
      "source": [
        "class Veiculo:\n",
        "  def __init__(self, marca=\"\", modelo=\"\", ano=\"\"):\n",
        "    self.marca = marca\n",
        "    self.modelo = modelo\n",
        "    self.ano = ano\n",
        "  def infosVeiculos(self):\n",
        "    print(f'Marca: {self.marca} / Modelo: {self.modelo} / Ano: {self.ano}')\n",
        "class Carro(Veiculo):\n",
        "  def __init__(self, quantidade_de_portas=0):\n",
        "    super().__init__()\n",
        "    self.quantidade_de_portas = quantidade_de_portas\n",
        "  def infosVeiculos(self):\n",
        "     super().infosVeiculos()\n",
        "     print(f\"O carro tem: {self.quantidade_de_portas} portas\")\n",
        "class Moto(Veiculo):\n",
        "  def __init__(self, cilindradas):\n",
        "     super().__init__()\n",
        "     self.cilindradas = cilindradas\n",
        "  def infosVeiculos(self):\n",
        "     super().infosVeiculos()\n",
        "     print(f'Cilindradas: {self.cilindradas}')\n",
        "\n",
        "carro =  Carro(4)\n",
        "carro.infosVeiculos()\n",
        "moto = Moto(2023)\n",
        "moto.infosVeiculos()"
      ],
      "metadata": {
        "id": "czIpsVIqfSXr"
      },
      "execution_count": null,
      "outputs": []
    },
    {
      "cell_type": "markdown",
      "source": [
        "3. Crie uma classe Animal com os atributos nome e peso, e um método comer(). Em seguida, crie\n",
        "duas subclasses, Cachorro e Gato, que herdam da classe Animal. Adicione um método\n",
        "latir() na classe Cachorro e um método miar() na classe Gato."
      ],
      "metadata": {
        "id": "j3mPDBRBG1bg"
      }
    },
    {
      "cell_type": "code",
      "source": [
        "class Animal:\n",
        "  def __init__(self, nome=\"\", peso=0):\n",
        "    self.nome = nome\n",
        "    self.peso = peso\n",
        "  def comer(self):\n",
        "    print(f\"{self.nome} está comendo\")\n",
        "class Cachorro(Animal):\n",
        "  def latir(self):\n",
        "    print(\"AUAUAU\")\n",
        "class Gato(Animal):\n",
        "  def miar(self):\n",
        "    print(\"miau miau miau\")\n",
        "\n",
        "animal1 = Animal('Bruno', 4)\n",
        "animal1.comer()\n",
        "cachorro1 = Cachorro(\"Valdecir, tem 8kg e\")\n",
        "cachorro1.comer()\n",
        "cachorro1.latir()\n",
        "gato1 = Gato('Manolo, tem 4kg e')\n",
        "gato1.comer()\n",
        "gato1.miar()"
      ],
      "metadata": {
        "id": "852MYWrSG6Jy"
      },
      "execution_count": null,
      "outputs": []
    },
    {
      "cell_type": "markdown",
      "source": [
        "4. Crie uma classe Pessoa com os atributos nome e idade. Em seguida, crie uma classe\n",
        "Funcionario que herda da classe Pessoa e adicione o atributo salario. Crie um método\n",
        "aumento() na classe Funcionario que aumenta o salário em uma porcentagem específica."
      ],
      "metadata": {
        "id": "u8DhHO1_Pk1X"
      }
    },
    {
      "cell_type": "code",
      "source": [
        "class Pessoa:\n",
        "  def __init__(self, nome='', idade=''):\n",
        "    self.nome = nome\n",
        "    self.idade = idade\n",
        "  def inforpessoas(self):\n",
        "    print(f'Pessoa: {self.nome} / Idade: {self.idade}')\n",
        "class Funcionario(Pessoa):\n",
        "  def __init__(self, nome, idade ,salario):\n",
        "    super().__init__(nome, idade)\n",
        "    self.salario = salario\n",
        "  def setSalario(self, salario):\n",
        "    self.salario = salario\n",
        "  def aumento(self, percentual):\n",
        "    self.salario *=   (1 + percentual / 100)\n",
        "\n",
        "funcionario = Funcionario('Borja', 31, 200000)\n",
        "funcionario.inforpessoas()\n",
        "funcionario.aumento(10)\n",
        "print(f'O funcionario {funcionario.nome} tem um salario de {funcionario.salario:.2f}')"
      ],
      "metadata": {
        "id": "8qdT1sfPPpPG"
      },
      "execution_count": null,
      "outputs": []
    },
    {
      "cell_type": "markdown",
      "source": [
        "5. Crie uma classe Forma com o método area(). Em seguida, crie duas subclasses: Retangulo e\n",
        "Circulo, que herdam da classe Forma. Adicione os atributos comprimento e largura na\n",
        "classe Retangulo e o atributo raio na classe Circulo. Agora calcula a área de cada polígono."
      ],
      "metadata": {
        "id": "pV3pksaCFCNJ"
      }
    },
    {
      "cell_type": "code",
      "source": [
        "import math\n",
        "class Forma:\n",
        "  def area(self):\n",
        "    pass\n",
        "class Retangulo(Forma):\n",
        "  def __init__(self, comprimento, largura):\n",
        "    self.comprimento = comprimento\n",
        "    self.largura = largura\n",
        "  def area(self):\n",
        "    return self.comprimento * self.largura\n",
        "class Circulo(Forma):\n",
        "  def __init__(self, raio):\n",
        "    self.raio = raio\n",
        "  def area(self):\n",
        "    return math.pi * self.raio ** 2\n",
        "\n",
        "retangulo = Retangulo(10, 15)\n",
        "print(f'A área do retangulo é de: {retangulo.area()}')\n",
        "circulo = Circulo(10)\n",
        "print(f'A área do circulo é: {circulo.area()}')"
      ],
      "metadata": {
        "id": "khApaLzoFEeQ"
      },
      "execution_count": null,
      "outputs": []
    },
    {
      "cell_type": "markdown",
      "source": [
        "6. Implemente o Diagrama de Classes de Contas Bancárias ilustrado abaixo."
      ],
      "metadata": {
        "id": "nS62QZLsaOEF"
      }
    },
    {
      "cell_type": "code",
      "source": [
        "class CCorente:\n",
        "  def __init__(self, numero='', saldo=0, cliente=''):\n",
        "    self.__numero = numero\n",
        "    self.__saldo = saldo\n",
        "    self.__cliente = cliente\n",
        "  def creditar(self, valor):\n",
        "    self.__saldo += valor\n",
        "  def debitar(self, valor):\n",
        "    self.__saldo -= valor\n",
        "  def getSaldo(self):\n",
        "    return self.__saldo\n",
        "\n",
        "class CEspecial(CCorente):\n",
        "  def __init__(self, limite='', numero='', saldo=0, cliente=''):\n",
        "    super().__init__(numero, saldo, cliente)\n",
        "    self.__limite = limite\n",
        "  def debitar(self, valor):\n",
        "    super().debitar(valor)\n",
        "\n",
        "class CPoupanca(CCorente):\n",
        "  def __init__(self, saldoMinino='', numero='', saldo='', cliente=''):\n",
        "    super().__init__(numero, saldo, cliente)\n",
        "    self.__saldoMinimo = saldoMinino\n",
        "  def debitar(self, valor):\n",
        "    super().debitar(valor) #vai chamar o debitar da class mae\n",
        "  def atualizarSaldo(self):\n",
        "    return self.getSaldo()\n",
        "  def getSaldoMinimo(self):\n",
        "    return self.__saldoMinimo\n",
        "\n",
        "class CInvestimento(CCorente):\n",
        "  def ___init__(self, numero='', saldo=0, cliente='', dataInvestimento='', periodo=''):\n",
        "    super().__init__(numero, saldo, cliente)\n",
        "    self.dataInvestimento = dataInvestimento\n",
        "    self.periodo = periodo\n",
        "  def atualizarSaldo(self):\n",
        "    return self.getSaldo"
      ],
      "metadata": {
        "id": "9UqipF1eaR6t"
      },
      "execution_count": 5,
      "outputs": []
    },
    {
      "cell_type": "markdown",
      "source": [
        "7. Implemente o Diagrama de Classes de Empregados ilustrado abaixo."
      ],
      "metadata": {
        "id": "FGZMFJvTlcPg"
      }
    },
    {
      "cell_type": "code",
      "source": [
        "class Empregado:\n",
        "  def __init__(self, codigo='', nome='', email='', salario=''):\n",
        "    self.__codigo = codigo\n",
        "    self.__nome = nome\n",
        "    self.__email = email\n",
        "    self.__salario = salario\n",
        "  def getSalario(self):\n",
        "    return self.__salario\n",
        "  def aumentoSalario(self, percentual=''):\n",
        "    self.__salario += self.__salario * percentual / 100\n",
        "\n",
        "class Chefe(Empregado):\n",
        "  def __init__(self, nome='', email='', salario='', beneficio='', codigo=''):\n",
        "    super().__init__(codigo, nome, email, salario)\n",
        "    self.__beneficio = beneficio\n",
        "  def aumentoSalario(self, percentual):\n",
        "    super().aumentoSalario(percentual)\n",
        "    self.__salario += self.__beneficio\n",
        "\n",
        "class Estagiario(Empregado):\n",
        "  def __init__(self, nome='', email='', salario='', desconto='', codigo=' '):\n",
        "    super().__init__(codigo, nome, email, salario)\n",
        "    self.__desconto = desconto\n",
        "  def aumentoSalario(self, percentual):\n",
        "    super().aumentoSalario(percentual)\n",
        "    self.__salario -= self.__desconto"
      ],
      "metadata": {
        "id": "COpqoS0Am3yY"
      },
      "execution_count": 11,
      "outputs": []
    },
    {
      "cell_type": "markdown",
      "source": [
        "8. Implemente o código para as classes abaixo:\n",
        "\n",
        "a) crie uma classe chamada Ingresso que possui um valor em reais e um método\n",
        "imprimeValor()\n",
        "\n",
        "b) crie uma classe VIP que herda de Ingresso e possui um valor adicional. Crie também um método\n",
        "que retorne o valor do ingresso VIP (como o adicional incluído).\n",
        "\n",
        "c) crie uma classe Normal, que herda Ingresso e possui um método que imprime: \"Ingresso Normal\".\n",
        "\n",
        "d) crie uma classe CamaroteInferior (que possui a localização do ingresso e métodos para acessar e\n",
        "imprimir esta localização) e uma classe CamaroteSuperior, que é mais cara (possui valor\n",
        "adicional). Esta última possui um método para retornar o valor do ingresso.\n",
        "\n",
        "Ambas as classes herdam\n",
        "a classe VIP."
      ],
      "metadata": {
        "id": "NttE4bX2tEY7"
      }
    },
    {
      "cell_type": "code",
      "source": [
        "class Ingresso:\n",
        "  def __init__(self, valor=0):\n",
        "    self.valor = valor\n",
        "\n",
        "  def imprimeValor(self):\n",
        "    return f'O valor do ingresso é: {self.valor}'\n",
        "\n",
        "class VIP(Ingresso):\n",
        "  def __init__(self, valorAD=0, valorB=0):\n",
        "    super().__init__(valorB)\n",
        "    self.valorAD = valorAD\n",
        "\n",
        "  def valorTudo(self):\n",
        "    return self.valor + self.valorAD\n",
        "\n",
        "class Normal(Ingresso):\n",
        "  def imprimeIngresso(self):\n",
        "    return 'ingresso Normal'\n",
        "\n",
        "class CamaroteInferior(VIP):\n",
        "  def __init__(self, valorAD=0, valorB=0, localizacao=''):\n",
        "    super().__init__(valorB, valorAD)\n",
        "    self.localizacao = localizacao\n",
        "\n",
        "  def imprimeLocalizacao(self):\n",
        "    return f\"A sua localização é: {self.localizacao}\"\n",
        "\n",
        "class CamaroteSuperior(VIP):\n",
        "  def __init__(self, valorAD=0, valorB=0):\n",
        "    super().__init__(valorB, valorAD)\n",
        "  def total(self):\n",
        "    return self.valorTodo()\n",
        "\n",
        "ingresso1 = Normal(30)\n",
        "print(f'{ingresso1.imprimeValor()} do tipo {ingresso1.imprimeIngresso()}')\n",
        "ingresso2 = VIP(30, 30)\n",
        "print(f'{ingresso2.imprimeValor()} sendo seu valor: {ingresso2.valorTudo()}')\n",
        "camarote1 = CamaroteInferior(30, 20, 'Sala C')\n",
        "print(f'{camarote1.imprimeValor()}. {camarote1.imprimeLocalizacao()} total: {camarote1.valorTudo()}')\n",
        "camarote2 = CamaroteSuperior(50, 40)\n",
        "print(f'{camarote2.imprimeValor()}. O valor do ingresso mais o camarote superior é de: {camarote2.valorTudo()}')"
      ],
      "metadata": {
        "id": "ZwJ4a0yitPud"
      },
      "execution_count": null,
      "outputs": []
    },
    {
      "cell_type": "markdown",
      "source": [
        "9. Implemente o código para as classes abaixo:\n",
        "\n",
        "a) uma classe Funcionario com os atributos (nome, endereço, telefone, email) e com os\n",
        "métodos (construtor, exibeDados())\n",
        "\n",
        "b) crie a classe Assistente, que também é Funcionário, e que possui um número de\n",
        "matrícula (use o método get).\n",
        "\n",
        "c) sabendo que os Assistentes Técnicos possuem um bônus salarial e que os Assistentes Administrativos\n",
        "possuem um turno (dia ou noite) e um adicional noturno, crie as classes Tecnico e\n",
        "Administrativo.\n",
        "\n",
        "Para cada um destas classes, imprima o número de matrícula e o nome de cada\n",
        "um deles."
      ],
      "metadata": {
        "id": "qagbbgugFwcD"
      }
    },
    {
      "cell_type": "code",
      "source": [
        "class Funcionario:\n",
        "    def __init__(self, nome, endereco, telefone, email):\n",
        "        self.nome = nome\n",
        "        self.endereco = endereco\n",
        "        self.telefone = telefone\n",
        "        self.email = email\n",
        "    def exibeDados(self):\n",
        "        return f\"Nome: {self.nome}, Endereço: {self.endereco}, Telefone: {self.telefone}, Email: {self.email}\"\n",
        "class Assistente(Funcionario):\n",
        "    def __init__(self, nome, endereco, telefone, email, matricula):\n",
        "        super().__init__(nome, endereco, telefone, email)\n",
        "        self.matricula = matricula\n",
        "    def getMatricula(self):\n",
        "        return self.matricula\n",
        "class Tecnico(Assistente):\n",
        "    def __init__(self, nome, endereco, telefone, email, matricula, bonus_salarial):\n",
        "        super().__init__(nome, endereco, telefone, email, matricula)\n",
        "        self.bonus_salarial = bonus_salarial\n",
        "class Administrativo(Assistente):\n",
        "    def __init__(self, nome, endereco, telefone, email, matricula, turno, adicional_noturno=0):\n",
        "        super().__init__(nome, endereco, telefone, email, matricula)\n",
        "        self.turno = turno\n",
        "        self.adicional_noturno = adicional_noturno\n",
        "\n",
        "tecnico = Tecnico('Claudio', 'Rua Amado Batista - 23', '989764323', 'bochecha01@gmail.com','123', 600)\n",
        "administrativo = Administrativo('Valdecir', 'Rua Dona Rhianna - 36', '987654353' ,'valdecirmeiaroda@gmail.com', '487','noite', 222)\n",
        "print(\"Matrícula e nome do Assistente Técnico:\", tecnico.getMatricula(), tecnico.nome)\n",
        "print(\"Matrícula e nome do Assistente Administrativo:\", administrativo.getMatricula(), administrativo.nome)"
      ],
      "metadata": {
        "id": "5RAtS2ShQYAA"
      },
      "execution_count": null,
      "outputs": []
    },
    {
      "cell_type": "markdown",
      "source": [
        "10. Observe o Diagrama de Classes na figura abaixo:"
      ],
      "metadata": {
        "id": "mDG0pGIAUR90"
      }
    },
    {
      "cell_type": "code",
      "source": [
        "class Pessoa:\n",
        "  def __init__(self, nome='', idade=''):\n",
        "    self.__nome = nome\n",
        "    self.__idade = idade\n",
        "class Rica(Pessoa):\n",
        "  def __init__(self, nome,idade,dinheiro):\n",
        "    super().__init__(nome, idade)\n",
        "    self.dinheiro = dinheiro\n",
        "  def fazCompra(self):\n",
        "    return 'Faz compra'\n",
        "class Pobre(Pessoa):\n",
        "  def trabalhar(self):\n",
        "    return 'Vai trabalhar'\n",
        "class Miseravel(Pessoa):\n",
        "  def mendiga(self):\n",
        "    return 'Vai mendigar'\n",
        "\n",
        "pobre = Pobre()\n",
        "print(f'Pobre {pobre.trabalhar()}')\n",
        "rico = Rica('Damião', 55, 100000000)\n",
        "print(f'Rico {rico.fazCompra()}')"
      ],
      "metadata": {
        "id": "A2FX6dHsU36i"
      },
      "execution_count": null,
      "outputs": []
    }
  ]
}