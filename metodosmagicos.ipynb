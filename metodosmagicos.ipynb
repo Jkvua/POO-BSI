{
  "nbformat": 4,
  "nbformat_minor": 0,
  "metadata": {
    "colab": {
      "provenance": [],
      "authorship_tag": "ABX9TyMXhdRP1PAQPL+ycebR62jS",
      "include_colab_link": true
    },
    "kernelspec": {
      "name": "python3",
      "display_name": "Python 3"
    },
    "language_info": {
      "name": "python"
    }
  },
  "cells": [
    {
      "cell_type": "markdown",
      "metadata": {
        "id": "view-in-github",
        "colab_type": "text"
      },
      "source": [
        "<a href=\"https://colab.research.google.com/github/Jkvua/POO-BSI/blob/main/metodosmagicos.ipynb\" target=\"_parent\"><img src=\"https://colab.research.google.com/assets/colab-badge.svg\" alt=\"Open In Colab\"/></a>"
      ]
    },
    {
      "cell_type": "markdown",
      "source": [
        "1. Acrescente à classe Usuario um método construtor para definir um valor para a propriedade\n",
        "primeiroNome assim que o objeto for criado."
      ],
      "metadata": {
        "id": "vbsyiOIIyORN"
      }
    },
    {
      "cell_type": "code",
      "execution_count": null,
      "metadata": {
        "id": "LKN4WOjuwlh0"
      },
      "outputs": [],
      "source": [
        "class Usuario():\n",
        "  def __init__(self, nome, sobrenome):\n",
        "    self.nome = nome\n",
        "    self.sobrenome = sobrenome\n",
        "  def getNomeUsuario(self):\n",
        "    return \" O primeiro nome é \" + self.nome + \" e o sobrenome é \" + self.sobrenome\n",
        "  def getNomeCompleto(self):\n",
        "    nomeCompleto = self.nome + self.sobrenome\n",
        "    return \" Nome completo: \" + nomeCompleto\n",
        "\n",
        "primeiroNome = Usuario(\"Júlia\", \"Alvarez\")\n",
        "nomeCompletoUsuario = Usuario(\"Júlia \",\"Alvarez\")\n",
        "print(primeiroNome.getNomeUsuario())\n",
        "print(nomeCompletoUsuario.getNomeCompleto())"
      ]
    },
    {
      "cell_type": "code",
      "source": [
        "class Usuario1():\n",
        "  def __init__(self, nome, sobrenome):\n",
        "    self.nome = nome\n",
        "    self.sobrenome = sobrenome\n",
        "  def getNomeUsuario(self):\n",
        "    return \" Primeiro nome \" + self.nome + \" e o sobrenome \" + self.sobrenome\n",
        "  def getNomeCompleto(self):\n",
        "    nomeCompleto = self.nome + self.sobrenome\n",
        "    return \" Nome Completo: \" + nomeCompleto\n",
        "\n",
        "primeiroNome = Usuario1(\"Johnny\" , \"Bravo\")\n",
        "nomeCompletoUsuario = Usuario1(\"Johnny \", \"Bravo\")\n",
        "print(primeiroNome.getNomeUsuario())\n",
        "print(nomeCompletoUsuario.getNomeCompleto())"
      ],
      "metadata": {
        "id": "gIhCInf4qxfv"
      },
      "execution_count": null,
      "outputs": []
    }
  ]
}