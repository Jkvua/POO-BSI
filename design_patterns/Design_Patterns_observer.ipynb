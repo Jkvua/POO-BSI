{
  "nbformat": 4,
  "nbformat_minor": 0,
  "metadata": {
    "colab": {
      "provenance": [],
      "authorship_tag": "ABX9TyPE8Xx9+ffs1TLPlUN6zuOy",
      "include_colab_link": true
    },
    "kernelspec": {
      "name": "python3",
      "display_name": "Python 3"
    },
    "language_info": {
      "name": "python"
    }
  },
  "cells": [
    {
      "cell_type": "markdown",
      "metadata": {
        "id": "view-in-github",
        "colab_type": "text"
      },
      "source": [
        "<a href=\"https://colab.research.google.com/github/Jkvua/POO-BSI/blob/main/Design_Patterns_observer.ipynb\" target=\"_parent\"><img src=\"https://colab.research.google.com/assets/colab-badge.svg\" alt=\"Open In Colab\"/></a>"
      ]
    },
    {
      "cell_type": "markdown",
      "source": [
        "\n",
        "\n",
        "```\n",
        "1. Observe o diagrama de classes abaixo, e implemente o que se pede.\n",
        "```\n",
        "\n"
      ],
      "metadata": {
        "id": "7C25OcZF4nbq"
      }
    },
    {
      "cell_type": "code",
      "execution_count": null,
      "metadata": {
        "id": "6dSJL7aw4XgY"
      },
      "outputs": [],
      "source": [
        "from abc import ABC, abstractmethod\n",
        "\n",
        "class Subject(ABC):\n",
        "  @abstractmethod\n",
        "  def registerObserver(self, observer):\n",
        "    pass\n",
        "\n",
        "  @abstractmethod\n",
        "  def removeObserver(self, observer):\n",
        "    pass\n",
        "\n",
        "  @abstractmethod\n",
        "  def notifyObserver(self):\n",
        "    pass\n",
        "\n",
        "class Observer(ABC):\n",
        "  @abstractmethod\n",
        "  def update(self, valor1, valor2):\n",
        "    pass\n",
        "\n",
        "class ConcreteSubject(Subject):\n",
        "  def __init__(self):\n",
        "    self._observer = []\n",
        "    self._valor1 = 0\n",
        "    self._valor2 = 0\n",
        "\n",
        "  def registerObserver(self, observer):\n",
        "    return self._observer.append(observer)\n",
        "\n",
        "  def removeObserver(self, observer):\n",
        "    return self._observer.remove(observer)\n",
        "\n",
        "  def notifyObserver(self):\n",
        "    for observer in self._observer:\n",
        "      observer.update(self._valor1, self._valor2)\n",
        "\n",
        "  def set_valores(self, valor1, valor2):\n",
        "    self._valor1 = valor1\n",
        "    self._valor2 = valor2\n",
        "    self.notifyObserver()\n",
        "\n",
        "class DivInteiraObserver(Observer):\n",
        "  def update(self, valor1, valor2):\n",
        "    if valor2 != 0:\n",
        "      print(f\"Divisão inteira: {valor1} // {valor2} = {valor1 // valor2}\")\n",
        "    else:\n",
        "      print(\"Não é possível divisão por zero\")\n",
        "\n",
        "class RestoObserver(Observer):\n",
        "  def update(self, valor1, valor2):\n",
        "    if valor2 != 0:\n",
        "      print(f\"Resto: {valor1} % {valor2} = {valor1 % valor2}\")\n",
        "    else:\n",
        "      print(\"Não é possível divisão por zero\")\n",
        "\n",
        "class MultiObserver(Observer):\n",
        "  def update(self, valor1, valor2):\n",
        "    print(f\"Multiplicação: {valor1} * {valor2} = {valor1 * valor2}\")\n",
        "\n",
        "if __name__ == \"__main__\":\n",
        "\n",
        "  sujeito = ConcreteSubject()\n",
        "\n",
        "  divInteiraObserver = DivInteiraObserver()\n",
        "  restoObserver = RestoObserver()\n",
        "  multiObserver = MultiObserver()\n",
        "\n",
        "  sujeito.registerObserver(divInteiraObserver)\n",
        "  sujeito.registerObserver(restoObserver)\n",
        "  sujeito.registerObserver(multiObserver)\n",
        "\n",
        "  sujeito.set_valores(10,3)\n",
        "\n",
        "  sujeito.set_valores(15,0)"
      ]
    },
    {
      "cell_type": "markdown",
      "source": [
        "\n",
        "\n",
        "```\n",
        "2. Suponha que temos um objeto de fonte de notícias, vamos chamá-lo de Reuters. Além disso, temos\n",
        "diferentes objetos de canal de notícias de TV que recebem notícias da Reuters e as retransmitem para\n",
        "sua audiência.Esses canais de notícias precisam saber se a Reuters tem notícias de última hora ou não.\n",
        "Se houver, eles devem obter essas notícias da Reuters e apresentá-las ao público. Uma maneira de\n",
        "fazer isso é consultar periodicamente o estado do objeto. Por exemplo, um diretor de nosso canal de\n",
        "notícias de TV pode ligar para a Reuters em um determinado período (por exemplo, a cada 10 minutos)\n",
        "e perguntar se há alguma notícia. No entanto, obviamente, esse método não pode ser um método bom\n",
        "e eficaz. Desta forma, perturbaremos constantemente a fonte, seremos informados de qualquer\n",
        "novidade (mudança de estado) não imediatamente, mas posteriormente. O Padrão de Projeto Observer\n",
        "nos fornece uma solução eficaz. Nele, objetos observadores (assinantes) (pode ser mais de um) se\n",
        "inscrevem no objeto sujeito (observável) que desejam estar cientes das atualizações em seu estado.\n",
        "Quando o objeto sujeito sofre uma atualização, ele notifica os objetos que o subscreveram. Em outras\n",
        "palavras, canais de TV (observadores) como Fox News ou CNN tornam-se assinantes da agência de\n",
        "notícias Reuters (observáveis). A Reuters informa automaticamente seus\n",
        "assinantes sobre todas as notícias de última hora.\n",
        " Desenvolva o código deste cenário baseado no diagrama de classes UML\n",
        "genérico da figura abaixo\n",
        "```\n",
        "\n"
      ],
      "metadata": {
        "id": "OO03AOtWQPYd"
      }
    },
    {
      "cell_type": "code",
      "source": [
        "from abc import ABC, abstractmethod\n",
        "\n",
        "class Subject(ABC):\n",
        "  @abstractmethod\n",
        "  def registerObserver(self, observer):\n",
        "    pass\n",
        "\n",
        "  @abstractmethod\n",
        "  def removeObserver(self, observer):\n",
        "    pass\n",
        "\n",
        "  @abstractmethod\n",
        "  def notifyObserver(self):\n",
        "    pass\n",
        "\n",
        "class Observer(ABC):\n",
        "  @abstractmethod\n",
        "  def update(self, news):\n",
        "    pass\n",
        "\n",
        "class Routers(Subject):\n",
        "  def __init__(self):\n",
        "    self._observers = []\n",
        "    self._ultimas_news = None\n",
        "\n",
        "  def registerObserver(self, observer):\n",
        "    return self._observers.append(observer)\n",
        "\n",
        "  def removeObserver(self, observer):\n",
        "    return self._observers.remove(observer)\n",
        "\n",
        "  def notifyObserver(self):\n",
        "    for observer in self._observers:\n",
        "      observer.update(self.ultimas_news)\n",
        "\n",
        "  def set_news(self, news):\n",
        "    self.ultimas_news = news\n",
        "    self.notifyObserver()\n",
        "\n",
        "class CNN(Observer):\n",
        "  def update(self, news):\n",
        "    print(f\"CNN: {news}\")\n",
        "\n",
        "class FoxNews(Observer):\n",
        "  def update(self, news):\n",
        "    print(f\"FoxNews: {news}\")\n",
        "\n",
        "class BBC(Observer):\n",
        "  def update(self, news):\n",
        "    print(f\"BBC: {news}\")\n",
        "\n",
        "if __name__ == (\"__main__\"):\n",
        "\n",
        "  router = Routers()\n",
        "  canalCnn = CNN()\n",
        "  canalFox = FoxNews()\n",
        "  canalBBC = BBC()\n",
        "\n",
        "  router.registerObserver(canalCnn)\n",
        "  router.registerObserver(canalFox)\n",
        "  router.registerObserver(canalBBC)\n",
        "\n",
        "  # router.set_news(\"Veja a provável escalação da Seleção Brasileira para o jogo contra o Peru\")\n",
        "  # router.set_news(\"Taylor Swift, Travis Kelce turn heads with Blake Lively, Ryan Reynolds at romantic double date dinner.\")\n",
        "  router.set_news(\"A escritora sul-coreana Han Kang recebe o Prêmio Nobel de Literatura de 2024\")"
      ],
      "metadata": {
        "colab": {
          "base_uri": "https://localhost:8080/"
        },
        "id": "_XcUziOfQW9s",
        "outputId": "6bd84246-63e0-47fe-989b-8e82c40cd398"
      },
      "execution_count": 18,
      "outputs": [
        {
          "output_type": "stream",
          "name": "stdout",
          "text": [
            "CNN: A escritora sul-coreana Han Kang recebe o Prêmio Nobel de Literatura de 2024\n",
            "FoxNews: A escritora sul-coreana Han Kang recebe o Prêmio Nobel de Literatura de 2024\n",
            "BBC: A escritora sul-coreana Han Kang recebe o Prêmio Nobel de Literatura de 2024\n"
          ]
        }
      ]
    }
  ]
}