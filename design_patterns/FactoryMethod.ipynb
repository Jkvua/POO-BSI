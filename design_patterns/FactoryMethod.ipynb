{
  "nbformat": 4,
  "nbformat_minor": 0,
  "metadata": {
    "colab": {
      "provenance": [],
      "authorship_tag": "ABX9TyPodw+AmMjNSLBFYpnqUkBz",
      "include_colab_link": true
    },
    "kernelspec": {
      "name": "python3",
      "display_name": "Python 3"
    },
    "language_info": {
      "name": "python"
    }
  },
  "cells": [
    {
      "cell_type": "markdown",
      "metadata": {
        "id": "view-in-github",
        "colab_type": "text"
      },
      "source": [
        "<a href=\"https://colab.research.google.com/github/Jkvua/POO-BSI/blob/main/FactoryMethod.ipynb\" target=\"_parent\"><img src=\"https://colab.research.google.com/assets/colab-badge.svg\" alt=\"Open In Colab\"/></a>"
      ]
    },
    {
      "cell_type": "markdown",
      "source": [
        "\n",
        "\n",
        "```\n",
        "1. Desenvolva o código para o diagrama de classes na figura abaixo, usando o padrão de design “Factory\n",
        "Method”.\n",
        "```\n",
        "\n"
      ],
      "metadata": {
        "id": "al7C-eLxwamr"
      }
    },
    {
      "cell_type": "code",
      "execution_count": 4,
      "metadata": {
        "id": "xiihuo4GwL01",
        "colab": {
          "base_uri": "https://localhost:8080/"
        },
        "outputId": "a234932a-d2dd-44d0-e977-e6ca3e1ac15f"
      },
      "outputs": [
        {
          "output_type": "stream",
          "name": "stdout",
          "text": [
            "Motos são legais\n",
            "Carros são mais seguros\n"
          ]
        }
      ],
      "source": [
        "from abc import ABC, abstractmethod\n",
        "\n",
        "class MotorVehicle(ABC):\n",
        "  @abstractmethod\n",
        "  def build(self):\n",
        "    pass\n",
        "\n",
        "class Motorcycle(MotorVehicle):\n",
        "  def build(self):\n",
        "    print(\"Motos são legais\")\n",
        "\n",
        "class Car(MotorVehicle):\n",
        "  def build(self):\n",
        "    print(\"Carros são mais seguros\")\n",
        "\n",
        "# fabrica - abstrata\n",
        "\n",
        "class MotorVehicleFactory(ABC):\n",
        "  @abstractmethod\n",
        "  def createMotorVehicleFactory(self) -> MotorVehicle:\n",
        "    pass\n",
        "\n",
        "class MotorcycleFactory(MotorVehicleFactory):\n",
        "  def createMotorVehicleFactory(self) -> MotorVehicle:\n",
        "    return Motorcycle()\n",
        "\n",
        "class CarFactory(MotorVehicleFactory):\n",
        "  def createMotorVehicleFactory(self) -> MotorVehicle:\n",
        "    return Car()\n",
        "\n",
        "motoFactory = MotorcycleFactory()\n",
        "moto = motoFactory.createMotorVehicleFactory()\n",
        "moto.build()\n",
        "\n",
        "carroFactory = CarFactory()\n",
        "carro = carroFactory.createMotorVehicleFactory()\n",
        "carro.build()"
      ]
    },
    {
      "cell_type": "markdown",
      "source": [
        "\n",
        "\n",
        "```\n",
        "2. Desenvolva o código para o diagrama de classes na figura abaixo, usando o padrão de design “Factory\n",
        "Method”.\n",
        "```\n",
        "\n"
      ],
      "metadata": {
        "id": "1joiJKe_oq90"
      }
    },
    {
      "cell_type": "code",
      "source": [
        "from abc import ABC, abstractmethod\n",
        "\n",
        "class Produto(ABC):\n",
        "    def __init__(self, cor):\n",
        "        self.cor = cor\n",
        "\n",
        "    def __str__(self):\n",
        "        return f\"Cor: {self.cor}\"\n",
        "\n",
        "class Poltrona(Produto):\n",
        "    def __init__(self, cor, largura, altura, profundidade):\n",
        "        super().__init__(cor)\n",
        "        self.largura = largura\n",
        "        self.altura = altura\n",
        "        self.profundidade = profundidade\n",
        "\n",
        "class MesaDeCentro(Produto):\n",
        "    def __init__(self, cor, largura, altura, comprimento):\n",
        "        super().__init__(cor)\n",
        "        self.largura = largura\n",
        "        self.altura = altura\n",
        "        self.comprimento = comprimento\n",
        "\n",
        "class Sofa(Produto):\n",
        "    def __init__(self, cor, largura, altura, profundidade):\n",
        "        super().__init__(cor)\n",
        "        self.largura = largura\n",
        "        self.altura = altura\n",
        "        self.profundidade = profundidade\n",
        "\n",
        "class FabricaDeMoveis(ABC):\n",
        "    @abstractmethod\n",
        "    def criar_poltrona(self):\n",
        "        pass\n",
        "\n",
        "    @abstractmethod\n",
        "    def criar_mesa_de_centro(self):\n",
        "        pass\n",
        "\n",
        "    @abstractmethod\n",
        "    def criar_sofa(self):\n",
        "        pass\n",
        "\n",
        "class FabricaDeMoveisModernos(FabricaDeMoveis):\n",
        "    def criar_poltrona(self):\n",
        "        return Poltrona(\"preto\", 80, 100, 60)\n",
        "\n",
        "    def criar_mesa_de_centro(self):\n",
        "        return MesaDeCentro(\"branco\", 120, 40, 80)\n",
        "\n",
        "    def criar_sofa(self):\n",
        "        return Sofa(\"cinza\", 200, 90, 80)\n",
        "\n",
        "fabrica = FabricaDeMoveisModernos()\n",
        "poltrona = fabrica.criar_poltrona()\n",
        "print(poltrona)"
      ],
      "metadata": {
        "colab": {
          "base_uri": "https://localhost:8080/"
        },
        "id": "hY6KAE5_oxG9",
        "outputId": "5ec4e00a-f420-4458-cee8-c6a82a6d6f29"
      },
      "execution_count": 5,
      "outputs": [
        {
          "output_type": "stream",
          "name": "stdout",
          "text": [
            "Cor: preto\n"
          ]
        }
      ]
    }
  ]
}