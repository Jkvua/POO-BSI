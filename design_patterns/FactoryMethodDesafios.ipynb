{
  "nbformat": 4,
  "nbformat_minor": 0,
  "metadata": {
    "colab": {
      "provenance": [],
      "authorship_tag": "ABX9TyOSzT7fueMNTK2aDV/DIqjz",
      "include_colab_link": true
    },
    "kernelspec": {
      "name": "python3",
      "display_name": "Python 3"
    },
    "language_info": {
      "name": "python"
    }
  },
  "cells": [
    {
      "cell_type": "markdown",
      "metadata": {
        "id": "view-in-github",
        "colab_type": "text"
      },
      "source": [
        "<a href=\"https://colab.research.google.com/github/Jkvua/POO-BSI/blob/main/FactoryMethodDesafios.ipynb\" target=\"_parent\"><img src=\"https://colab.research.google.com/assets/colab-badge.svg\" alt=\"Open In Colab\"/></a>"
      ]
    },
    {
      "cell_type": "markdown",
      "source": [
        "\n",
        "\n",
        "```\n",
        "Atividade 1: Sistema de Notificações - Email, SMS, Push\n",
        "```\n",
        "\n"
      ],
      "metadata": {
        "id": "jdCZIhkGllVj"
      }
    },
    {
      "cell_type": "code",
      "execution_count": null,
      "metadata": {
        "id": "z3YnZPrQletZ",
        "colab": {
          "base_uri": "https://localhost:8080/"
        },
        "outputId": "b8391062-c8ce-45e9-c528-f48df57abb86"
      },
      "outputs": [
        {
          "output_type": "stream",
          "name": "stdout",
          "text": [
            "Notificação do Email!\n",
            "Notificação de SMS!\n",
            "Notificação do Push!\n"
          ]
        }
      ],
      "source": [
        "from abc import ABC, abstractmethod\n",
        "\n",
        "class Notificacao(ABC):\n",
        "  @abstractmethod\n",
        "  def alert(self) -> str:\n",
        "    pass\n",
        "\n",
        "class EmailNot(Notificacao):\n",
        "  def alert(self) -> str:\n",
        "    print(\"Notificação do Email!\")\n",
        "\n",
        "class SmsNot(Notificacao):\n",
        "  def alert(self) -> str:\n",
        "    print(\"Notificação de SMS!\")\n",
        "\n",
        "class PushNot(Notificacao):\n",
        "  def alert(self) -> str:\n",
        "    print(\"Notificação do Push!\")\n",
        "\n",
        "class NotificacaoFactory(ABC):\n",
        "  @abstractmethod\n",
        "  def createNotificacaoFactory(self) -> Notificacao:\n",
        "    pass\n",
        "\n",
        "class EmailNotificacaoFactory(NotificacaoFactory):\n",
        "  def createNotificacaoFactory(self) -> Notificacao:\n",
        "    return EmailNot()\n",
        "\n",
        "class SmsNotificacaoFactory(NotificacaoFactory):\n",
        "  def createNotificacaoFactory(self) -> Notificacao:\n",
        "    return SmsNot()\n",
        "\n",
        "class PushNotificacaoFactory(NotificacaoFactory):\n",
        "  def createNotificacaoFactory(self) -> Notificacao:\n",
        "    return PushNot()\n",
        "\n",
        "notDoEmail = EmailNotificacaoFactory()\n",
        "notEmail = notDoEmail.createNotificacaoFactory()\n",
        "notEmail.alert()\n",
        "\n",
        "notDeSMS = SmsNotificacaoFactory()\n",
        "notSMS = notDeSMS.createNotificacaoFactory()\n",
        "notSMS.alert()\n",
        "\n",
        "notDoPush = PushNotificacaoFactory()\n",
        "notPush = notDoPush.createNotificacaoFactory()\n",
        "notPush.alert()\n"
      ]
    },
    {
      "cell_type": "markdown",
      "source": [
        "\n",
        "\n",
        "```\n",
        "Atividade 2: Gerenciador de Documentos - PDF, Word, TXT\n",
        "```\n",
        "\n"
      ],
      "metadata": {
        "id": "VDT5E1t7mEei"
      }
    },
    {
      "cell_type": "code",
      "source": [
        "from abc import ABC, abstractmethod\n",
        "\n",
        "class GerirDocumentos(ABC):\n",
        "  @abstractmethod\n",
        "  def documentacao(self) -> str:\n",
        "    pass\n",
        "\n",
        "class PdfDocumento(GerirDocumentos):\n",
        "  def documentacao(self) -> str:\n",
        "    print(\"Documento PDF\")\n",
        "\n",
        "class WordDocumento(GerirDocumentos):\n",
        "  def documentacao(self) -> str:\n",
        "    print(\"Documento feito no Word\")\n",
        "\n",
        "class TxtDocumento(GerirDocumentos):\n",
        "  def documentacao(self) -> str:\n",
        "    print(\"Documento feito por TXT\")\n",
        "\n",
        "class GerenciamentoFactory(ABC):\n",
        "  @abstractmethod\n",
        "  def createGerenciadorDocumentos(self) -> str:\n",
        "    pass\n",
        "\n",
        "class PdfFactory(GerenciamentoFactory):\n",
        "  def createGerenciadorDocumentos(self) -> str:\n",
        "    return PdfDocumento()\n",
        "\n",
        "class WordFactory(GerenciamentoFactory):\n",
        "  def createGerenciadorDocumentos(self) -> str:\n",
        "    return WordDocumento()\n",
        "\n",
        "class TxtFactory(GerenciamentoFactory):\n",
        "  def createGerenciadorDocumentos(self) -> str:\n",
        "    return TxtDocumento()\n",
        "\n",
        "PDF = PdfFactory()\n",
        "GeDocumeto = PDF.createGerenciadorDocumentos()\n",
        "GeDocumeto.documentacao()\n",
        "\n",
        "WORD = WordFactory()\n",
        "woDocumeto = WORD.createGerenciadorDocumentos()\n",
        "woDocumeto.documentacao()\n",
        "\n",
        "txt = TxtFactory()\n",
        "txDocumeto = txt.createGerenciadorDocumentos()\n",
        "txDocumeto.documentacao()\n"
      ],
      "metadata": {
        "id": "JvSk3fp9mGOK",
        "colab": {
          "base_uri": "https://localhost:8080/"
        },
        "outputId": "57ccf9a3-e3e6-4baf-93d2-38eb22404739"
      },
      "execution_count": 5,
      "outputs": [
        {
          "output_type": "stream",
          "name": "stdout",
          "text": [
            "Documento PDF\n",
            "Documento feito no Word\n",
            "Documento feito por TXT\n"
          ]
        }
      ]
    },
    {
      "cell_type": "markdown",
      "source": [
        "\n",
        "\n",
        "```\n",
        "Atividade 3: Sistema de Pagamentos - Cartão de Crédito, PayPal, Boleto\n",
        "```\n",
        "\n"
      ],
      "metadata": {
        "id": "5nOhV9-PdFAq"
      }
    },
    {
      "cell_type": "code",
      "source": [
        "from abc import ABC, abstractmethod\n",
        "\n",
        "class SistemaPagamento(ABC):\n",
        "  @abstractmethod\n",
        "  def pagamento(self) -> str:\n",
        "    pass\n",
        "\n",
        "class CartaoCredito(SistemaPagamento):\n",
        "  def pagamento(self) -> str:\n",
        "    print(\"Pagamento foi feito com Cartão de Crédito\")\n",
        "\n",
        "class PayPal(SistemaPagamento):\n",
        "  def pagamento(self) -> str:\n",
        "    print(\"Pagamento feito com PayPal\")\n",
        "\n",
        "class Boleto(SistemaPagamento):\n",
        "  def pagamento(self) -> str:\n",
        "    print(\"Pagamento feito por Boleto\")\n",
        "\n",
        "class SistemaPagamentoFactory(ABC):\n",
        "  @abstractmethod\n",
        "  def createPamentoFactory(self) -> str:\n",
        "    pass\n",
        "\n",
        "class CartaoCreditoFactory(SistemaPagamentoFactory):\n",
        "  def createPamentoFactory(self) -> str:\n",
        "    return CartaoCredito()\n",
        "\n",
        "class PayPalFactory(SistemaPagamentoFactory):\n",
        "  def createPamentoFactory(self) -> str:\n",
        "    return PayPal()\n",
        "\n",
        "class BoletoFactory(SistemaPagamentoFactory):\n",
        "  def createPamentoFactory(self) -> str:\n",
        "    return Boleto()\n",
        "\n",
        "pag1 = CartaoCreditoFactory()\n",
        "sistpag1 = pag1.createPamentoFactory()\n",
        "sistpag1.pagamento()\n",
        "\n",
        "pag2 = PayPalFactory()\n",
        "sistpag2 = pag2.createPamentoFactory()\n",
        "sistpag2.pagamento()\n",
        "\n",
        "pag3 = BoletoFactory()\n",
        "sistpag3 = pag3.createPamentoFactory()\n",
        "sistpag3.pagamento()"
      ],
      "metadata": {
        "colab": {
          "base_uri": "https://localhost:8080/"
        },
        "id": "nbmAArZfdLEc",
        "outputId": "d1096155-72ce-4e5f-ec5f-6e6d99282bd8"
      },
      "execution_count": 8,
      "outputs": [
        {
          "output_type": "stream",
          "name": "stdout",
          "text": [
            "Pagamento foi feito com Cartão de Crédito\n",
            "Pagamento feito com PayPal\n",
            "Pagamento feito por Boleto\n"
          ]
        }
      ]
    },
    {
      "cell_type": "markdown",
      "source": [
        "\n",
        "\n",
        "```\n",
        "Atividade 4: Gerador de Relatórios - html, csv, json\n",
        "```\n",
        "\n"
      ],
      "metadata": {
        "id": "2nzfFAqWovC5"
      }
    },
    {
      "cell_type": "code",
      "source": [
        "from abc import ABC, abstractmethod\n",
        "\n",
        "class GeradorRelatorio(ABC):\n",
        "  @abstractmethod\n",
        "  def relatorios(self) -> str:\n",
        "    pass\n",
        "\n",
        "class RelatorioHtml(GeradorRelatorio):\n",
        "  def relatorios(self) -> str:\n",
        "    print(\"Relatório em HTML\")\n",
        "\n",
        "class RelatorioCsv(GeradorRelatorio):\n",
        "  def relatorios(self) -> str:\n",
        "    print(\"Relatório em CSV\")\n",
        "\n",
        "class RelatorioJson(GeradorRelatorio):\n",
        "  def relatorios(self) -> str:\n",
        "    print(\"Relatório em JSON\")\n",
        "\n",
        "class RelatorioFactory(ABC):\n",
        "  @abstractmethod\n",
        "  def createRelatotioFactory(self) -> str:\n",
        "    pass\n",
        "\n",
        "class HtmlFactory(RelatorioFactory):\n",
        "  def createRelatotioFactory(self) -> str:\n",
        "    return RelatorioHtml()\n",
        "\n",
        "class CsvFactory(RelatorioFactory):\n",
        "  def createRelatotioFactory(self) -> str:\n",
        "    return RelatorioCsv()\n",
        "\n",
        "class JsonFactory(RelatorioFactory):\n",
        "  def createRelatotioFactory(self) -> str:\n",
        "    return RelatorioJson()\n",
        "\n",
        "relatorio1 = HtmlFactory()\n",
        "descRelatorio1 = relatorio1.createRelatotioFactory()\n",
        "descRelatorio1.relatorios()\n",
        "\n",
        "relatorio2 = CsvFactory()\n",
        "descRelatorio2 = relatorio2.createRelatotioFactory()\n",
        "descRelatorio2.relatorios()\n",
        "\n",
        "relatorio3 = JsonFactory()\n",
        "descRelatorio3 = relatorio3.createRelatotioFactory()\n",
        "descRelatorio3.relatorios()"
      ],
      "metadata": {
        "colab": {
          "base_uri": "https://localhost:8080/"
        },
        "id": "gCZOZBLIo3H1",
        "outputId": "98bc2890-683f-4080-9238-bdb182961c8a"
      },
      "execution_count": 11,
      "outputs": [
        {
          "output_type": "stream",
          "name": "stdout",
          "text": [
            "Relatório em HTML\n",
            "Relatório em CSV\n",
            "Relatório em JSON\n"
          ]
        }
      ]
    },
    {
      "cell_type": "markdown",
      "source": [
        "\n",
        "\n",
        "```\n",
        "Atividade 5: Sistema de Logística - Caminhão, Navio, Avião\n",
        "```\n",
        "\n"
      ],
      "metadata": {
        "id": "8a5ebA037Q6z"
      }
    },
    {
      "cell_type": "code",
      "source": [
        "from re import A\n",
        "from abc import ABC, abstractmethod\n",
        "\n",
        "class SistemaLogistica(ABC):\n",
        "  @abstractmethod\n",
        "  def transporte(self) -> str:\n",
        "    pass\n",
        "\n",
        "class MeioCaminhao(SistemaLogistica):\n",
        "  def transporte(self) -> str:\n",
        "    print(\"O transpote solicitado foi um Caminhão\")\n",
        "\n",
        "class MeioNavio(SistemaLogistica):\n",
        "  def transporte(self) -> str:\n",
        "    print(\"O transpote solicitado foi um Navio\")\n",
        "\n",
        "class MeioAviao(SistemaLogistica):\n",
        "  def transporte(self) -> str:\n",
        "    print(\"O transpote solicitado foi um Avião\")\n",
        "\n",
        "class LogisticaFactory(ABC):\n",
        "  @abstractmethod\n",
        "  def createLogisticaFactoty(self) -> str:\n",
        "    pass\n",
        "\n",
        "class CaminhaoFactory(LogisticaFactory):\n",
        "  def createLogisticaFactoty(self) -> str:\n",
        "    return MeioCaminhao()\n",
        "\n",
        "class NavioFactory(LogisticaFactory):\n",
        "  def createLogisticaFactoty(self) -> str:\n",
        "    return MeioNavio()\n",
        "\n",
        "class AviaoFactory(LogisticaFactory):\n",
        "  def createLogisticaFactoty(self) -> str:\n",
        "    return MeioAviao()\n",
        "\n",
        "trasporteSolicitado1 = CaminhaoFactory()\n",
        "transporte1 = trasporteSolicitado1.createLogisticaFactoty()\n",
        "transporte1.transporte()\n",
        "\n",
        "trasporteSolicitado2 = NavioFactory()\n",
        "transporte2 = trasporteSolicitado2.createLogisticaFactoty()\n",
        "transporte2.transporte()\n",
        "\n",
        "trasporteSolicitado3 = AviaoFactory()\n",
        "transporte3 = trasporteSolicitado3.createLogisticaFactoty()\n",
        "transporte3.transporte()"
      ],
      "metadata": {
        "colab": {
          "base_uri": "https://localhost:8080/"
        },
        "id": "qgiJ2qJg7ZYa",
        "outputId": "c192559d-93e9-4997-dcde-f30df85d6999"
      },
      "execution_count": 14,
      "outputs": [
        {
          "output_type": "stream",
          "name": "stdout",
          "text": [
            "O transpote solicitado foi um Caminhão\n",
            "O transpote solicitado foi um Navio\n",
            "O transpote solicitado foi um Avião\n"
          ]
        }
      ]
    }
  ]
}