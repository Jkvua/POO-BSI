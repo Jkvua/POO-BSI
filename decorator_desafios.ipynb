{
  "nbformat": 4,
  "nbformat_minor": 0,
  "metadata": {
    "colab": {
      "provenance": [],
      "authorship_tag": "ABX9TyP9jUAzyx/B0kokLQhjLaZl",
      "include_colab_link": true
    },
    "kernelspec": {
      "name": "python3",
      "display_name": "Python 3"
    },
    "language_info": {
      "name": "python"
    }
  },
  "cells": [
    {
      "cell_type": "markdown",
      "metadata": {
        "id": "view-in-github",
        "colab_type": "text"
      },
      "source": [
        "<a href=\"https://colab.research.google.com/github/Jkvua/POO-BSI/blob/main/decorator_desafios.ipynb\" target=\"_parent\"><img src=\"https://colab.research.google.com/assets/colab-badge.svg\" alt=\"Open In Colab\"/></a>"
      ]
    },
    {
      "cell_type": "markdown",
      "source": [
        "\n",
        "\n",
        "```\n",
        "Atividade 1: Sistema de Notificações\n",
        "```\n",
        "\n"
      ],
      "metadata": {
        "id": "LtOvRXXbk45P"
      }
    },
    {
      "cell_type": "code",
      "execution_count": null,
      "metadata": {
        "colab": {
          "base_uri": "https://localhost:8080/"
        },
        "id": "nt8cQxORkcQz",
        "outputId": "f4e1ed2f-9a2b-484c-eb6a-cc515f9754b1"
      },
      "outputs": [
        {
          "output_type": "stream",
          "name": "stdout",
          "text": [
            "\n",
            "Mensagem por Email.: Boa noite! + adcionando um emoji\n",
            "\n",
            "Mensagem por SMS.: Bom dia! \n",
            "Como se tá? + adcionando um emoji + adcionando uma figurinha a mensagem\n",
            "\n",
            "Mensagem por Slack.: Bom dia! + mandando um gif\n"
          ]
        }
      ],
      "source": [
        "from abc import ABC, abstractmethod\n",
        "\n",
        "class AppMensager(ABC):\n",
        "  def __init__(self, descricao):\n",
        "    self.descricao = descricao\n",
        "\n",
        "  @abstractmethod\n",
        "  def getDescricao(self) -> str:\n",
        "    pass\n",
        "\n",
        "class Email(AppMensager):\n",
        "  def __init__(self):\n",
        "    super().__init__(\"Boa noite!\")\n",
        "\n",
        "  def getDescricao(self) -> str:\n",
        "    return self.descricao\n",
        "\n",
        "class Sms(AppMensager):\n",
        "  def __init__(self):\n",
        "    super().__init__(\"Bom dia! \\nComo se tá?\")\n",
        "\n",
        "  def getDescricao(self) -> str:\n",
        "    return self.descricao\n",
        "\n",
        "class Slack(AppMensager):\n",
        "  def __init__(self):\n",
        "    super().__init__(\"Bom dia!\")\n",
        "\n",
        "  def getDescricao(self) -> str:\n",
        "    return self.descricao\n",
        "\n",
        "class AppFuncionalidade(AppMensager):\n",
        "  def __init__(self, app_mensager: AppMensager):\n",
        "    self.app_mensager = app_mensager\n",
        "\n",
        "  def getFuncionalidade(self) -> str:\n",
        "    return self.app_mensager.getDescricao()\n",
        "\n",
        "class Emoji(AppFuncionalidade):\n",
        "  def getDescricao(self) -> str:\n",
        "    return self.app_mensager.getDescricao() + \" + adcionando um emoji\"\n",
        "\n",
        "class Figurinha(AppFuncionalidade):\n",
        "  def getDescricao(self) -> str:\n",
        "    return self.app_mensager.getDescricao() + \" + adcionando uma figurinha a mensagem\"\n",
        "\n",
        "class Gif(AppFuncionalidade):\n",
        "  def getDescricao(self) -> str:\n",
        "    return self.app_mensager.getDescricao() + \" + mandando um gif\"\n",
        "\n",
        "#1 teste\n",
        "emails = Email()\n",
        "emailEmoji = Emoji(emails)\n",
        "print(f\"\\nMensagem por Email.: {emailEmoji.getDescricao()}\")\n",
        "\n",
        "#2 teste\n",
        "sms = Sms()\n",
        "smsEmoji = Emoji(sms)\n",
        "smsEmojiFigurinha = Figurinha(smsEmoji)\n",
        "print(f\"\\nMensagem por SMS.: {smsEmojiFigurinha.getDescricao()}\")\n",
        "\n",
        "#3 teste\n",
        "slack = Slack()\n",
        "slackGifs = Gif(slack)\n",
        "print(f\"\\nMensagem por Slack.: {slackGifs.getDescricao()}\")\n"
      ]
    },
    {
      "cell_type": "markdown",
      "source": [
        "\n",
        "\n",
        "```\n",
        "Atividade 2: Processador de Texto\n",
        "```\n",
        "\n"
      ],
      "metadata": {
        "id": "fMTr-mnvA99u"
      }
    },
    {
      "cell_type": "code",
      "source": [
        "from rich.console import Console\n",
        "from rich.text import Text\n",
        "from abc import ABC, abstractmethod\n",
        "\n",
        "console = Console()\n",
        "\n",
        "class ProceText(ABC):\n",
        "  def __init__(self, texto):\n",
        "    self.texto = texto\n",
        "\n",
        "  @abstractmethod\n",
        "  def getTexto(self) -> str:\n",
        "    pass\n",
        "\n",
        "class Word(ProceText):\n",
        "  def __init__(self):\n",
        "    super().__init__(\"Os peanuts é um desenho sobre a vida\")\n",
        "\n",
        "  def getTexto(self) -> str:\n",
        "    return self.texto\n",
        "\n",
        "class FormText(Word):\n",
        "  def __init__(self, porce_text: ProceText):\n",
        "    self.porce_text = porce_text\n",
        "\n",
        "  def getTexto(self) -> str:\n",
        "    return self.porce_text.getTexto()\n",
        "\n",
        "class Italico(FormText):\n",
        "  def getTexto(self) -> str:\n",
        "    return f\"[italic]{self.porce_text.getTexto()}[/italic]\" + \" - Texto em itálico\"\n",
        "\n",
        "class Negrito(FormText):\n",
        "  def getTexto(self) -> str:\n",
        "    return f\"[bold]{self.porce_text.getTexto()}[/bold]\" + \" - Texto em negrito\"\n",
        "\n",
        "class Sublinhado(FormText):\n",
        "  def getTexto(self) -> str:\n",
        "    return f\"[underline]{self.porce_text.getTexto()}[/underline]\" + \" - Texto sublinhado\"\n",
        "\n",
        "# 1 teste\n",
        "word = Word()\n",
        "textoItalico = Italico(word)\n",
        "console.print(textoItalico.getTexto())\n",
        "\n",
        "# 2 teste\n",
        "textoNegrito = Negrito(word)\n",
        "console.print(textoNegrito.getTexto())\n",
        "\n",
        "# 3 teste\n",
        "textoSublinhado = Sublinhado(word)\n",
        "console.print(textoSublinhado.getTexto())\n"
      ],
      "metadata": {
        "colab": {
          "base_uri": "https://localhost:8080/",
          "height": 68
        },
        "id": "NxP3C9h9BBj-",
        "outputId": "a2c562e2-af30-4fa1-8e9b-262fab834470"
      },
      "execution_count": null,
      "outputs": [
        {
          "output_type": "display_data",
          "data": {
            "text/plain": [
              "\u001b[3mOs peanuts é um desenho sobre a vida\u001b[0m - Texto em itálico\n"
            ],
            "text/html": [
              "<pre style=\"white-space:pre;overflow-x:auto;line-height:normal;font-family:Menlo,'DejaVu Sans Mono',consolas,'Courier New',monospace\"><span style=\"font-style: italic\">Os peanuts é um desenho sobre a vida</span> - Texto em itálico\n",
              "</pre>\n"
            ]
          },
          "metadata": {}
        },
        {
          "output_type": "display_data",
          "data": {
            "text/plain": [
              "\u001b[1mOs peanuts é um desenho sobre a vida\u001b[0m - Texto em negrito\n"
            ],
            "text/html": [
              "<pre style=\"white-space:pre;overflow-x:auto;line-height:normal;font-family:Menlo,'DejaVu Sans Mono',consolas,'Courier New',monospace\"><span style=\"font-weight: bold\">Os peanuts é um desenho sobre a vida</span> - Texto em negrito\n",
              "</pre>\n"
            ]
          },
          "metadata": {}
        },
        {
          "output_type": "display_data",
          "data": {
            "text/plain": [
              "\u001b[4mOs peanuts é um desenho sobre a vida\u001b[0m - Texto sublinhado\n"
            ],
            "text/html": [
              "<pre style=\"white-space:pre;overflow-x:auto;line-height:normal;font-family:Menlo,'DejaVu Sans Mono',consolas,'Courier New',monospace\"><span style=\"text-decoration: underline\">Os peanuts é um desenho sobre a vida</span> - Texto sublinhado\n",
              "</pre>\n"
            ]
          },
          "metadata": {}
        }
      ]
    },
    {
      "cell_type": "markdown",
      "source": [
        "\n",
        "\n",
        "```\n",
        "Atividade 3: Sistema de Café\n",
        "```\n",
        "\n"
      ],
      "metadata": {
        "id": "F8Fa6Cc1W4np"
      }
    },
    {
      "cell_type": "code",
      "source": [
        "from abc import ABC, abstractmethod\n",
        "\n",
        "class CafeBer(ABC):\n",
        "  def __init__(self, descricao, preco):\n",
        "    self.descricao = descricao\n",
        "    self.preco = preco\n",
        "\n",
        "  def getDescicao(self) -> str:\n",
        "    pass\n",
        "\n",
        "  def getPreco(self) -> float:\n",
        "    pass\n",
        "\n",
        "class Tradicional(CafeBer):\n",
        "  def __init__(self):\n",
        "    super().__init__(\"Café tradicional! pronto\", 6.00)\n",
        "\n",
        "  def getDescicao(self) -> str:\n",
        "    return self.descricao\n",
        "\n",
        "  def getPreco(self) -> float:\n",
        "    return self.preco\n",
        "\n",
        "class Expresso(CafeBer):\n",
        "  def __init__(self):\n",
        "    super().__init__(\"Café expresso! pronto\", 8.00)\n",
        "\n",
        "  def getDescicao(self) -> str:\n",
        "    return self.descricao\n",
        "\n",
        "  def getPreco(self) -> str:\n",
        "    return self.preco\n",
        "\n",
        "class Latte(CafeBer):\n",
        "  def __init__(self):\n",
        "    super().__init__(\"Café latte! pronto\", 12.00)\n",
        "\n",
        "  def getDescicao(self) -> str:\n",
        "    return self.descricao\n",
        "\n",
        "  def getPreco(self) -> float:\n",
        "    return self.preco\n",
        "\n",
        "class CafeDecoracao(CafeBer):\n",
        "  def __init__(self, cafeber: CafeBer):\n",
        "    self.cafeber = cafeber\n",
        "\n",
        "  def getDescicao(self) -> str:\n",
        "    return self.cafeber.getDescicao()\n",
        "\n",
        "  def getPreco(self) -> float:\n",
        "    return self.cafeber.getPreco()\n",
        "\n",
        "class LeiteVaporizado(CafeDecoracao):\n",
        "  def getDescicao(self) -> str:\n",
        "    return self.cafeber.getDescicao() + \" + Leite Vaporizado\"\n",
        "\n",
        "  def getPreco(self) -> float:\n",
        "    return self.cafeber.getPreco() + 12.00\n",
        "\n",
        "class Chocolate(CafeDecoracao):\n",
        "  def getDescicao(self) -> str:\n",
        "    return self.cafeber.getDescicao() + \" + Chocolate\"\n",
        "\n",
        "  def getPreco(self) -> float:\n",
        "    return self.cafeber.getPreco() + 9.90\n",
        "\n",
        "class Canela(CafeDecoracao):\n",
        "  def getDescicao(self) -> str:\n",
        "    return self.cafeber.getDescicao() + \" + Canela\"\n",
        "\n",
        "  def getPreco(self) -> float:\n",
        "    return self.cafeber.getPreco() + 5.50\n",
        "\n",
        "cafetradicional = Tradicional()\n",
        "tradicionalChocolate = Chocolate(cafetradicional)\n",
        "print(f\"Um {tradicionalChocolate.getDescicao()} \\nPreço.: {tradicionalChocolate.getPreco()}\")\n",
        "\n",
        "expresso = Expresso()\n",
        "expressoCanela = Canela(expresso)\n",
        "print(f\"Um {expressoCanela.getDescicao()} \\nPreço.: {expressoCanela.getPreco()}\")\n",
        "\n",
        "latte = Latte()\n",
        "latteLeiteVaporizado = LeiteVaporizado(latte)\n",
        "print(f\"Um {latteLeiteVaporizado.getDescicao()} \\nPreço.: {latteLeiteVaporizado.getPreco()}\")\n"
      ],
      "metadata": {
        "id": "VG9zAojqW7Nh",
        "colab": {
          "base_uri": "https://localhost:8080/"
        },
        "outputId": "d9b7ea5b-2b65-4d9e-c460-8255dc213a35"
      },
      "execution_count": null,
      "outputs": [
        {
          "output_type": "stream",
          "name": "stdout",
          "text": [
            "Um Café tradicional! pronto + Chocolate \n",
            "Preço.: 15.9\n",
            "Um Café expresso! pronto + Canela \n",
            "Preço.: 13.5\n",
            "Um Café latte! pronto + Leite Vaporizado \n",
            "Preço.: 24.0\n"
          ]
        }
      ]
    },
    {
      "cell_type": "markdown",
      "source": [
        "\n",
        "\n",
        "```\n",
        "Atividade 4: Validador de Dados #complicada\n",
        "```\n",
        "\n"
      ],
      "metadata": {
        "id": "Gs9jw2sude_Q"
      }
    },
    {
      "cell_type": "code",
      "source": [
        "import re\n",
        "\n",
        "class ValidadorDeDados:\n",
        "    def __init__(self):\n",
        "        self.erros = []\n",
        "        self.regras = []\n",
        "\n",
        "    def adicionar_regra(self, regra):\n",
        "        self.regras.append(regra)\n",
        "\n",
        "    def validar(self, dados):\n",
        "        self.erros = []\n",
        "        for regra in self.regras:\n",
        "            erro = regra(dados)\n",
        "            if erro:\n",
        "                self.erros.append(erro)\n",
        "        return self.erros\n",
        "\n",
        "def validar_email(dados):\n",
        "    email = dados.get(\"email\", \"\")\n",
        "    if not re.match(r\"[^@]+@[^@]+\\.[^@]+\", email):\n",
        "        return \"Email inválido.\"\n",
        "    return None\n",
        "\n",
        "def validar_idade(dados):\n",
        "    idade = dados.get(\"idade\")\n",
        "    if not isinstance(idade, int) or idade <= 0 or idade > 120:\n",
        "        return \"Idade inválida.\"\n",
        "    return None\n",
        "\n",
        "def validar_nome(dados):\n",
        "    nome = dados.get(\"nome\", \"\")\n",
        "    if not nome or not nome.isalpha():\n",
        "        return \"Nome inválido. Deve conter apenas letras.\"\n",
        "    return None\n",
        "\n",
        "validador = ValidadorDeDados()\n",
        "validador.adicionar_regra(validar_email)\n",
        "validador.adicionar_regra(validar_idade)\n",
        "validador.adicionar_regra(validar_nome)\n",
        "\n",
        "dados = {\n",
        "    \"email\": \"usuarioexemplo.com\",\n",
        "    \"idade\": 200,\n",
        "    \"nome\": \"João123\"\n",
        "}\n",
        "\n",
        "erros = validador.validar(dados)\n",
        "\n",
        "if erros:\n",
        "    print(\"Erros encontrados:\")\n",
        "    for erro in erros:\n",
        "        print(erro)\n",
        "else:\n",
        "    print(\"Todos os dados são válidos!\")\n"
      ],
      "metadata": {
        "colab": {
          "base_uri": "https://localhost:8080/"
        },
        "id": "b8Lp--Ubdenm",
        "outputId": "ec327773-0c3f-4022-e998-e75c79e112d0"
      },
      "execution_count": null,
      "outputs": [
        {
          "output_type": "stream",
          "name": "stdout",
          "text": [
            "Erros encontrados:\n",
            "Email inválido.\n",
            "Idade inválida.\n",
            "Nome inválido. Deve conter apenas letras.\n"
          ]
        }
      ]
    },
    {
      "cell_type": "markdown",
      "source": [
        "\n",
        "\n",
        "```\n",
        "Atividade 5: Logger com Níveis #complicada\n",
        "```\n",
        "\n"
      ],
      "metadata": {
        "id": "oi6TF5Hkzz9T"
      }
    },
    {
      "cell_type": "code",
      "source": [
        "from abc import ABC, abstractmethod\n",
        "from datetime import datetime\n",
        "\n",
        "class Logging(ABC):\n",
        "  def __init__(self, email, senha):\n",
        "      self.email = email\n",
        "      self.senha = senha\n",
        "\n",
        "  def getEmail(self):\n",
        "      return self.email\n",
        "\n",
        "  def getSenha(self):\n",
        "      return \"*\" * (len(self.senha) - 2) + self.senha[-2:]\n",
        "\n",
        "  @abstractmethod\n",
        "  def message(self, message):\n",
        "      pass\n",
        "\n",
        "class Email(Logging):\n",
        "  def __init__(self):\n",
        "      super().__init__(\"joaninhacaramelo@gmail.com\", \"1234\")\n",
        "\n",
        "  def message(self, message):\n",
        "      print(f\"[EMAIL LOG] {datetime.now()} - {message}\")\n",
        "      print(f\"Email enviado para: {self.getEmail()} com senha: {self.getSenha()}\")\n",
        "\n",
        "\n",
        "class AppInform(Logging):\n",
        "  def __init__(self, email, senha, file_name):\n",
        "      super().__init__(email, senha)\n",
        "      self.file_name = file_name\n",
        "\n",
        "  def message(self, message):\n",
        "      with open(self.file_name, \"a\") as file:\n",
        "          logado = f\"[FILE LOG] {datetime.now()} - {message}\\n\"\n",
        "          file.write(logado)\n",
        "      print(f\"Log salvo em {self.file_name}\")\n",
        "\n",
        "class Funci(Logging):\n",
        "    def __init__(self, email, senha):\n",
        "        super().__init__(email, senha)\n",
        "\n",
        "    def message(self, message):\n",
        "        print(f\"[CONSOLE LOG] {datetime.now()} - {message}\")\n",
        "\n",
        "email = Email()\n",
        "login = AppInform(\"joaninhacaramelo@gmail.com\", \"1234\", \"logs.txt\")\n",
        "funci = Funci(\"joaninhacaramelo@gmail.com\", \"1234\")\n",
        "\n",
        "email.message(\"Mensagem enviada por email.\")\n",
        "login.message(\"Mensagem registrada no arquivo.\")\n",
        "funci.message(\"Mensagem exibida no console.\")\n"
      ],
      "metadata": {
        "colab": {
          "base_uri": "https://localhost:8080/"
        },
        "id": "sIuDKM3x8gL2",
        "outputId": "c9a9e0c9-2979-4a27-d860-fe27be9cd0f1"
      },
      "execution_count": null,
      "outputs": [
        {
          "output_type": "stream",
          "name": "stdout",
          "text": [
            "[EMAIL LOG] 2024-10-28 21:16:04.034273 - Mensagem enviada por email.\n",
            "Email enviado para: joaninhacaramelo@gmail.com com senha: **34\n",
            "Log salvo em logs.txt\n",
            "[CONSOLE LOG] 2024-10-28 21:16:04.037961 - Mensagem exibida no console.\n"
          ]
        }
      ]
    }
  ]
}