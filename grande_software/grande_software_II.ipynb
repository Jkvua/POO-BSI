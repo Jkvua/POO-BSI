{
  "nbformat": 4,
  "nbformat_minor": 0,
  "metadata": {
    "colab": {
      "provenance": [],
      "authorship_tag": "ABX9TyOgzx2nm0GbwBy9ST4ixv+a",
      "include_colab_link": true
    },
    "kernelspec": {
      "name": "python3",
      "display_name": "Python 3"
    },
    "language_info": {
      "name": "python"
    }
  },
  "cells": [
    {
      "cell_type": "markdown",
      "metadata": {
        "id": "view-in-github",
        "colab_type": "text"
      },
      "source": [
        "<a href=\"https://colab.research.google.com/github/Jkvua/POO-BSI/blob/main/grande_software_II.ipynb\" target=\"_parent\"><img src=\"https://colab.research.google.com/assets/colab-badge.svg\" alt=\"Open In Colab\"/></a>"
      ]
    },
    {
      "cell_type": "code",
      "execution_count": 59,
      "metadata": {
        "id": "Y2YyUJGVsCWi"
      },
      "outputs": [],
      "source": [
        "from enum import Enum\n",
        "\n",
        "class Builder(Enum):\n",
        "    FENDER = \"fender\"\n",
        "    MARTIN =  \"martin\"\n",
        "    GIBSON = \"gibson\"\n",
        "    COLLINGS = \"collings\"\n",
        "    OLSON = \"olson\"\n",
        "    RYAN = \"ryan\"\n",
        "    PRS = \"prs\"\n",
        "    ANY = \"any\"\n",
        "\n",
        "class TypeG(Enum):\n",
        "    ACOUSTIC = \"acoustic\"\n",
        "    ELECTRIC = \"electric\"\n",
        "\n",
        "class Wood(Enum):\n",
        "    INDIAN_ROSEWOOD = \"indian_rosewood\"\n",
        "    BRAZILIAN_ROSEWOOD = \"brazilian_rosewood\"\n",
        "    MAHOGANY = \"mahogany\"\n",
        "    MAPLE = \"maple\"\n",
        "    COCOBOLO = \"cocobolo\"\n",
        "    CEDAR = \"cedar\"\n",
        "    ADIRONDACK = \"adirondack\"\n",
        "    ALDER = \"alder\"\n",
        "    SITKA = \"sitka\""
      ]
    },
    {
      "cell_type": "code",
      "source": [
        "# Código para a Classe Guitar\n",
        "class Guitar:\n",
        "    def __init__(self, serialNumber, price, builder, model, typeG, backWood, topWood):\n",
        "        self.serialNumber = serialNumber\n",
        "        self.price = price\n",
        "        self.spec = GuitarSpec(builder, model, typeG, backWood, topWood)\n",
        "\n",
        "    def getSerialNumber(self):\n",
        "        return self.serialNumber\n",
        "\n",
        "    def getPrice(self):\n",
        "        return self.price\n",
        "\n",
        "    def setPrice(self, newPrice):\n",
        "        self.price = newPrice\n",
        "\n",
        "    def getSpec(self):\n",
        "        return self.spec\n"
      ],
      "metadata": {
        "id": "OmhIqKrasYtP"
      },
      "execution_count": 60,
      "outputs": []
    },
    {
      "cell_type": "code",
      "source": [
        "class GuitarSpec:\n",
        "    def __init__(self, builder, model, typeG, backWood, topWood):\n",
        "        self.builder = builder\n",
        "        self.model = model\n",
        "        self.typeG = typeG\n",
        "        self.backWood = backWood\n",
        "        self.topWood = topWood\n",
        "\n",
        "    def getBuilder(self):\n",
        "        return self.builder\n",
        "\n",
        "    def getModel(self):\n",
        "        return self.model\n",
        "\n",
        "    def getTypeG(self):\n",
        "        return self.typeG\n",
        "\n",
        "    def getBackWood(self):\n",
        "        return self.backWood\n",
        "\n",
        "    def getTopWood(self):\n",
        "        return self.topWood"
      ],
      "metadata": {
        "id": "Vf5HfgLIsw3L"
      },
      "execution_count": 61,
      "outputs": []
    },
    {
      "cell_type": "code",
      "source": [
        "# Código para a Classe Inventory\n",
        "class Inventory:\n",
        "    def __init__(self):\n",
        "        self.guitars = []\n",
        "\n",
        "# addGuitar() pega todas as propriedades necessárias para criar uma nova instância da Classe Guitar,\n",
        "# cria uma e a adiciona ao inventário\n",
        "    def addGuitar(self, serialNumber, price, builder, model, typeG, backWood, topWood):\n",
        "        guitar = Guitar(serialNumber, price, builder, model, typeG, backWood, topWood)\n",
        "        self.guitars.append(guitar)\n",
        "\n",
        "    def getGuitar(self, serialNumber):\n",
        "        for guitar in self.guitars:\n",
        "            if guitar.getSerialNumber() == serialNumber:\n",
        "                return guitar\n",
        "        return None\n",
        "\n",
        "# Este método é um pouco confuso... ele compara cada propriedade do objeto Guitar\n",
        "# que é passado com cada objeto Guitar no inventário (estoque) do Rick\n",
        "    def searchGuitar(self, searchGuitar):\n",
        "        num_guitars = []\n",
        "        for guitar in self.guitars:\n",
        "            guitar_spec = guitar.getSpec()\n",
        "            # ignora o 'serialNumber' porque é único\n",
        "            # ignora o 'price' porque é único\n",
        "\n",
        "            if searchGuitar.getBuilder() != guitar_spec.getBuilder():\n",
        "                continue\n",
        "\n",
        "            model = searchGuitar.getModel().lower()\n",
        "            if model and model != \"\" and model != guitar_spec.getModel().lower():\n",
        "                continue\n",
        "\n",
        "            if searchGuitar.getTypeG() != guitar_spec.getTypeG():\n",
        "                continue\n",
        "\n",
        "            if searchGuitar.getBackWood() != guitar_spec.getBackWood():\n",
        "                continue\n",
        "            if searchGuitar.getTopWood() != guitar_spec.getTopWood():\n",
        "                continue\n",
        "\n",
        "            num_guitars.append(guitar)\n",
        "\n",
        "        return num_guitars\n"
      ],
      "metadata": {
        "id": "vL9GgOiDsbTk"
      },
      "execution_count": 62,
      "outputs": []
    },
    {
      "cell_type": "code",
      "source": [
        "inventory = Inventory()\n",
        "\n",
        "# Adiciona guitarras ao estoque\n",
        "inventory.addGuitar(\"V95693\", 1499.95, Builder.FENDER.value, \"Stratocastor\", TypeG.ELECTRIC.value, Wood.ALDER.value, Wood.ALDER.value)\n",
        "inventory.addGuitar(\"11277\", 3999.95 , Builder.COLLINGS.value, \"PS\", TypeG.ACOUSTIC.value, Wood.INDIAN_ROSEWOOD.value, Wood.INDIAN_ROSEWOOD.value)\n",
        "\n",
        "# Buscando por uma guitarra que o Erin gosta: Fender Stratocastor elétrica com corpo de Alder e tampo de Alder\n",
        "whatErinLikes1 = GuitarSpec(Builder.FENDER.value, \"Stratocastor\", TypeG.ELECTRIC.value, Wood.ALDER.value, Wood.ALDER.value)\n",
        "guitarras = inventory.searchGuitar(whatErinLikes1)\n",
        "if guitarras is not None:\n",
        "  for guitar in guitarras:\n",
        "    spec = guitar.getSpec()\n",
        "    print(f\"Erin, you might like this {spec.getBuilder()} {spec.getModel()} {spec.getTypeG()} guitar:\\n{spec.getBackWood()} back and sides,\\n{spec.getTopWood()} top.\\nYou can have it for only ${guitar.getPrice()}!\")\n",
        "else:\n",
        "    print(\"Sorry, Erin, we have nothing for you.\")\n",
        "\n",
        "print('\\n')\n",
        "\n",
        "whatErinLikes2 = GuitarSpec(Builder.COLLINGS.value, \"PS\", TypeG.ACOUSTIC.value, Wood.INDIAN_ROSEWOOD.value, Wood.INDIAN_ROSEWOOD.value)\n",
        "guitarras = inventory.searchGuitar(whatErinLikes2)\n",
        "if guitarras is not None:\n",
        "  for guitar in guitarras:\n",
        "    spec = guitar.getSpec()\n",
        "    print(f\"Erin, talvez você goste desta: {spec.getBuilder()} {spec.getModel()} {spec.getTypeG()} guitar:\\n {spec.getBackWood()} na traseira e laterais, \\n{spec.getBackWood()} no tampo.\\n Ela pode ser sua por apenas US${guitar.getPrice()}!\")\n",
        "else:\n",
        "  print(\"Desculpe Erin, não temos nada para você\")\n",
        "\n",
        "print('\\n')\n"
      ],
      "metadata": {
        "id": "G9XkhyWMsdvb",
        "colab": {
          "base_uri": "https://localhost:8080/"
        },
        "outputId": "fd4f3396-c898-4705-c124-165c1565317d"
      },
      "execution_count": 64,
      "outputs": [
        {
          "output_type": "stream",
          "name": "stdout",
          "text": [
            "Erin, you might like this fender Stratocastor electric guitar:\n",
            "alder back and sides,\n",
            "alder top.\n",
            "You can have it for only $1499.95!\n",
            "\n",
            "\n",
            "Erin, talvez você goste desta: collings PS acoustic guitar:\n",
            " indian_rosewood na traseira e laterais, \n",
            "indian_rosewood no tampo.\n",
            " Ela pode ser sua por apenas US$3999.95!\n",
            "\n",
            "\n"
          ]
        }
      ]
    }
  ]
}