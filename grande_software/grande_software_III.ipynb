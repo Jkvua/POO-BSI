{
  "nbformat": 4,
  "nbformat_minor": 0,
  "metadata": {
    "colab": {
      "provenance": [],
      "authorship_tag": "ABX9TyMgYaGSDs+pnEVtlftZSBCS",
      "include_colab_link": true
    },
    "kernelspec": {
      "name": "python3",
      "display_name": "Python 3"
    },
    "language_info": {
      "name": "python"
    }
  },
  "cells": [
    {
      "cell_type": "markdown",
      "metadata": {
        "id": "view-in-github",
        "colab_type": "text"
      },
      "source": [
        "<a href=\"https://colab.research.google.com/github/Jkvua/POO-BSI/blob/main/grande_software_III.ipynb\" target=\"_parent\"><img src=\"https://colab.research.google.com/assets/colab-badge.svg\" alt=\"Open In Colab\"/></a>"
      ]
    },
    {
      "cell_type": "code",
      "execution_count": 7,
      "metadata": {
        "id": "riiBxWT0uR3I"
      },
      "outputs": [],
      "source": [
        "from enum import Enum\n",
        "\n",
        "class Builder(Enum):\n",
        "    FENDER = \"fender\"\n",
        "    MARTIN =  \"martin\"\n",
        "    GIBSON = \"gibson\"\n",
        "    COLLINGS = \"collings\"\n",
        "    OLSON = \"olson\"\n",
        "    RYAN = \"ryan\"\n",
        "    PRS = \"prs\"\n",
        "    ANY = \"any\"\n",
        "\n",
        "class TypeG(Enum):\n",
        "    ACOUSTIC = \"acoustic\"\n",
        "    ELECTRIC = \"electric\"\n",
        "\n",
        "class Wood(Enum):\n",
        "    INDIAN_ROSEWOOD = \"indian_rosewood\"\n",
        "    BRAZILIAN_ROSEWOOD = \"brazilian_rosewood\"\n",
        "    MAHOGANY = \"mahogany\"\n",
        "    MAPLE = \"maple\"\n",
        "    COCOBOLO = \"cocobolo\"\n",
        "    CEDAR = \"cedar\"\n",
        "    ADIRONDACK = \"adirondack\"\n",
        "    ALDER = \"alder\"\n",
        "    SITKA = \"sitka\""
      ]
    },
    {
      "cell_type": "code",
      "source": [
        "class GuitarSpec:\n",
        "    def __init__(self, builder, model, typeG, backWood, topWood, numStrings):\n",
        "        self.builder = builder\n",
        "        self.model = model\n",
        "        self.typeG = typeG\n",
        "        self.backWood = backWood\n",
        "        self.topWood = topWood\n",
        "        self.numStrings = numStrings\n",
        "\n",
        "    def getBuilder(self):\n",
        "        return self.builder\n",
        "\n",
        "    def getModel(self):\n",
        "        return self.model\n",
        "\n",
        "    def getTypeG(self):\n",
        "        return self.typeG\n",
        "\n",
        "    def getBackWood(self):\n",
        "        return self.backWood\n",
        "\n",
        "    def getTopWood(self):\n",
        "        return self.topWood\n",
        "\n",
        "    def getNumStrings(self):\n",
        "        return self.numStrings\n",
        "\n",
        "    def matches(self, otherSpec):\n",
        "        if self.builder != otherSpec.getBuilder():\n",
        "            return False\n",
        "        if self.model and self.model.lower!= otherSpec.getModel().lower:\n",
        "            return False\n",
        "        if self.typeG != otherSpec.getTypeG():\n",
        "            return False\n",
        "        if self.backWood != otherSpec.getBackWood():\n",
        "            return False\n",
        "        if self.topWood != otherSpec.getTopWood():\n",
        "            return False\n",
        "        if self.numStrings != otherSpec.getNumStrings():\n",
        "            return False\n",
        "        return True"
      ],
      "metadata": {
        "id": "XOvjrpVNug_w"
      },
      "execution_count": 8,
      "outputs": []
    },
    {
      "cell_type": "code",
      "source": [
        "class Guitar:\n",
        "    def __init__(self, serialNumber, price, spec):\n",
        "        self.serialNumber = serialNumber\n",
        "        self.price = price\n",
        "        self.spec = spec\n",
        "\n",
        "    def getSerialNumber(self):\n",
        "        return self.serialNumber\n",
        "\n",
        "    def getPrice(self):\n",
        "        return self.price\n",
        "\n",
        "    def setPrice(self, newPrice):\n",
        "        self.price = newPrice\n",
        "\n",
        "    def getSpec(self):\n",
        "        return self.spec\n"
      ],
      "metadata": {
        "id": "SZs-aRK0u1YA"
      },
      "execution_count": 9,
      "outputs": []
    },
    {
      "cell_type": "code",
      "source": [
        "class Inventory:\n",
        "    def __init__(self):\n",
        "        self.guitars = []\n",
        "\n",
        "    def addGuitar(self, serialNumber, price, spec):\n",
        "        guitar = Guitar(serialNumber, price, spec)\n",
        "        self.guitars.append(guitar)\n",
        "\n",
        "    def getGuitar(self, serialNumber):\n",
        "        for guitar in self.guitars:\n",
        "            if guitar.getSerialNumber() == serialNumber:\n",
        "                return guitar\n",
        "        return None\n",
        "\n",
        "    def search(self, searchGuitar):\n",
        "        num_guitars = []\n",
        "        for guitar in self.guitars:\n",
        "          if guitar.getSpec().matches(searchGuitar):\n",
        "            num_guitars.append(guitar)\n",
        "        return num_guitars"
      ],
      "metadata": {
        "id": "MeDRAQRPwmlX"
      },
      "execution_count": 10,
      "outputs": []
    },
    {
      "cell_type": "code",
      "source": [
        "def initializeInventory(inventory):\n",
        "  spec1 = GuitarSpec(Builder.FENDER, \"Stratocastor\", TypeG.ELECTRIC, Wood.ALDER, Wood.ALDER, 6)\n",
        "  inventory.addGuitar(\"V95693\", 1499.95, spec1)\n",
        "  inventory.addGuitar(\"V99999\", 1599.95, spec1)\n",
        "\n",
        "def main():\n",
        "  inventory = Inventory()\n",
        "  initializeInventory(inventory)\n",
        "\n",
        "  whatErinLikes = GuitarSpec(Builder.FENDER, \"Stratocastor\", TypeG.ELECTRIC, Wood.ALDER, Wood.ALDER, 6)\n",
        "  num_guitars = inventory.search(whatErinLikes)\n",
        "\n",
        "  if num_guitars:\n",
        "    print(\"Erin talvez você goste destas: \")\n",
        "    for guitar in num_guitars:\n",
        "      guitarSpec = guitar.getSpec()\n",
        "      print(f\"\\nGuitarra: {guitar.getSerialNumber()} {guitarSpec.getBuilder().value} {guitarSpec.getModel()} {guitarSpec.getTypeG().value} guitar:\\n{guitarSpec.getBackWood().value} na traseira e laterais,\\n{guitarSpec.getTopWood().value} no tampo, com {guitarSpec.getNumStrings()} cordas\\nEla pode ser sua por apenas US${guitar.getPrice():.2f}!\")\n",
        "  else:\n",
        "    print(\"Desculpe Erin, não tem nada para você.\")\n",
        "\n",
        "if __name__ == \"__main__\":\n",
        "    main()"
      ],
      "metadata": {
        "colab": {
          "base_uri": "https://localhost:8080/"
        },
        "id": "WKpGCBU-zLeQ",
        "outputId": "e3689ab9-8a46-4c41-e7e8-c98b6317814f"
      },
      "execution_count": 11,
      "outputs": [
        {
          "output_type": "stream",
          "name": "stdout",
          "text": [
            "Erin talvez você goste destas: \n",
            "\n",
            "Guitarra: V95693 fender Stratocastor electric guitar:\n",
            "alder na traseira e laterais,\n",
            "alder no tampo, com 6 cordas\n",
            "Ela pode ser sua por apenas US$1499.95!\n",
            "\n",
            "Guitarra: V99999 fender Stratocastor electric guitar:\n",
            "alder na traseira e laterais,\n",
            "alder no tampo, com 6 cordas\n",
            "Ela pode ser sua por apenas US$1599.95!\n"
          ]
        }
      ]
    }
  ]
}