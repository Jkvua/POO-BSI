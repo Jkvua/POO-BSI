{
  "nbformat": 4,
  "nbformat_minor": 0,
  "metadata": {
    "colab": {
      "provenance": [],
      "authorship_tag": "ABX9TyNLNt/O1vrqd4ECueujM6va",
      "include_colab_link": true
    },
    "kernelspec": {
      "name": "python3",
      "display_name": "Python 3"
    },
    "language_info": {
      "name": "python"
    }
  },
  "cells": [
    {
      "cell_type": "markdown",
      "metadata": {
        "id": "view-in-github",
        "colab_type": "text"
      },
      "source": [
        "<a href=\"https://colab.research.google.com/github/Jkvua/POO-BSI/blob/main/atividadepratica02.ipynb\" target=\"_parent\"><img src=\"https://colab.research.google.com/assets/colab-badge.svg\" alt=\"Open In Colab\"/></a>"
      ]
    },
    {
      "cell_type": "markdown",
      "source": [
        "1. Qual palavra-chave (keyword) você usaria para ter acesso às propriedades e métodos de uma classe\n",
        "estando dentro dela?\n",
        "\n",
        "a) A palavra-chave new\n",
        "\n",
        "b) A palavra-chave this\n",
        "\n",
        "c) A palavra-chave self"
      ],
      "metadata": {
        "id": "nxmYHZqt7sp9"
      }
    },
    {
      "cell_type": "markdown",
      "source": [
        "\n",
        "\n",
        "```\n",
        "Letra = C\n",
        "```\n",
        "\n"
      ],
      "metadata": {
        "id": "6AqEzD2R8Asx"
      }
    },
    {
      "cell_type": "markdown",
      "source": [
        "Atividade Prática 02 - palavra chave self / questões 2 a 4"
      ],
      "metadata": {
        "id": "bPlYvh-DFZkN"
      }
    },
    {
      "cell_type": "code",
      "execution_count": null,
      "metadata": {
        "id": "FXZqO4Zg3I6d"
      },
      "outputs": [],
      "source": [
        "class Usuario():\n",
        "  def __init__(self, nome, sobrenome):\n",
        "    self.nome = nome\n",
        "    self.sobrenome = sobrenome\n",
        "  def getNomeUsuario(self):\n",
        "    return self.nome + self.sobrenome\n",
        "  def hello(self):\n",
        "    return \"Olá\"\n",
        "\n",
        "primeiroNome = Usuario(\" Johnny \", \"Bravo\")\n",
        "print(primeiroNome.hello() + primeiroNome.getNomeUsuario())"
      ]
    },
    {
      "cell_type": "markdown",
      "source": [
        "4. Use o comando print no método hello() para o objeto usuario1 e observe o resultado."
      ],
      "metadata": {
        "id": "cxDWktKoGGdB"
      }
    },
    {
      "cell_type": "code",
      "source": [
        "class Usuario1():\n",
        "  def __init__(self, nome, sobrenome):\n",
        "    self.nome = nome\n",
        "    self.sobrenome = sobrenome\n",
        "  def getNomeUsuario(self):\n",
        "    return self.nome + self.sobrenome\n",
        "  def hello(self):\n",
        "    return \"Olá\"\n",
        "\n",
        "primeiroNome = Usuario1(\" Johnny \", \"Bravo\")\n",
        "print(primeiroNome.hello())"
      ],
      "metadata": {
        "id": "SnYry0HEFpgH"
      },
      "execution_count": null,
      "outputs": []
    }
  ]
}