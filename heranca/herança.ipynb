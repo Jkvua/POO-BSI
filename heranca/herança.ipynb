{
  "nbformat": 4,
  "nbformat_minor": 0,
  "metadata": {
    "colab": {
      "provenance": [],
      "authorship_tag": "ABX9TyNUSZOsh7ypptuJjX8yJ1N4",
      "include_colab_link": true
    },
    "kernelspec": {
      "name": "python3",
      "display_name": "Python 3"
    },
    "language_info": {
      "name": "python"
    }
  },
  "cells": [
    {
      "cell_type": "markdown",
      "metadata": {
        "id": "view-in-github",
        "colab_type": "text"
      },
      "source": [
        "<a href=\"https://colab.research.google.com/github/Jkvua/POO-BSI/blob/main/heran%C3%A7a.ipynb\" target=\"_parent\"><img src=\"https://colab.research.google.com/assets/colab-badge.svg\" alt=\"Open In Colab\"/></a>"
      ]
    },
    {
      "cell_type": "code",
      "source": [
        "class Usuario:\n",
        "  def __init__(self, nomeUsuario=\"\"):\n",
        "    self.__nomeUsuario = nomeUsuario\n",
        "  def setNomeUsuario(self, nomeUsuario):\n",
        "    self.__nomeUsuario = nomeUsuario\n",
        "  def getNomeUsuario(self):\n",
        "    return self.__nomeUsuario\n",
        "class Admin(Usuario):\n",
        "  def escreverNome(self):\n",
        "    return \"Admin\" + self.getNomeUsuario\n",
        "  def digaOla(self):\n",
        "    return \"Olá Admin, \" + self.getNomeUsuario()\n",
        "\n",
        "usuario = Admin('Inocencio Coitadinho')\n",
        "admin1 = Admin()\n",
        "admin1.setNomeUsuario('Baltazar')\n",
        "print(admin1.digaOla())"
      ],
      "metadata": {
        "id": "RisYmr_lTxr3"
      },
      "execution_count": null,
      "outputs": []
    }
  ]
}